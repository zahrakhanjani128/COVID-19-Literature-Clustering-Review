{
  "nbformat": 4,
  "nbformat_minor": 0,
  "metadata": {
    "kernelspec": {
      "display_name": "Python 3",
      "language": "python",
      "name": "python3"
    },
    "language_info": {
      "codemirror_mode": {
        "name": "ipython",
        "version": 3
      },
      "file_extension": ".py",
      "mimetype": "text/x-python",
      "name": "python",
      "nbconvert_exporter": "python",
      "pygments_lexer": "ipython3",
      "version": "3.7.4"
    },
    "colab": {
      "name": "version1 covid-19-literature-clustering.ipynb",
      "provenance": [],
      "collapsed_sections": [
        "i0fQX4s570OU"
      ],
      "include_colab_link": true
    },
    "accelerator": "GPU"
  },
  "cells": [
    {
      "cell_type": "markdown",
      "metadata": {
        "id": "view-in-github",
        "colab_type": "text"
      },
      "source": [
        "<a href=\"https://colab.research.google.com/github/zahrakhanjani128/COVID-19-Literature-Clustering-Review/blob/main/version1_covid_19_literature_clustering.ipynb\" target=\"_parent\"><img src=\"https://colab.research.google.com/assets/colab-badge.svg\" alt=\"Open In Colab\"/></a>"
      ]
    },
    {
      "cell_type": "markdown",
      "metadata": {
        "id": "HNk33ZIu70Jn"
      },
      "source": [
        "# A review on COVID-19 Literature Clustering\n",
        "```\n",
        "  {Khanjani, Zahra},\n",
        "  The instructor= {Professor Philip Bogden}\n",
        "    title = {A review on COVID-19 Literature Clustering. Data 602 final project},\n",
        "    year = {2020},\n",
        "    month = {May},\n",
        "    location = {University of Maryland Baltimore County (UMBC), Baltimore, MD, USA},\n",
        "    \n",
        "\n",
        "```"
      ]
    },
    {
      "cell_type": "markdown",
      "metadata": {
        "id": "dHnUYPIEQoPv"
      },
      "source": [
        "# The Primary reference:\n",
        "```\n",
        "@inproceedings{COVID-19 Literature Clustering,\n",
        "    author = {Eren, E. Maksim. Solovyev, Nick. Nicholas, Charles. Raff, Edward},\n",
        "    title = {COVID-19 Literature Clustering},\n",
        "    year = {2020},\n",
        "    month = {April},\n",
        "    location = {University of Maryland Baltimore County (UMBC), Baltimore, MD, USA},\n",
        "    note={Malware Research Group},\n",
        "    url = {\\url{https://www.kaggle.com/maksimeren/covid-19-literature-clustering}},\n",
        "    howpublished = {TBA}\n",
        "}\n",
        "```"
      ]
    },
    {
      "cell_type": "markdown",
      "metadata": {
        "id": "hkFEOS8E70J5"
      },
      "source": [
        "# Goal\n",
        "\n",
        "\n",
        "\n",
        "The ultimate goal of this research is to make doing COVID-19 researches easier for the health professionals. Clustering methods are used to keep similar research articles together which may simplify researching on COVID-19 (Eren et al, 2020). Therefore, this research's aim is clustering literature about COVID-19, then finding related keywords for each cluster. \n",
        "<br>\n",
        "<br>"
      ]
    },
    {
      "cell_type": "markdown",
      "metadata": {
        "id": "iT8yveCn70J9"
      },
      "source": [
        "# The Datasets\n",
        "\n",
        ">The White House and a coalition of leading research groups have provided the global research community with the COVID-19 Open Research Dataset (CORD-19) which is a resource of over 51,000 scholarly articles (Eren et al, 2020). It is also the main dataset to be used in the given research.\n",
        ">#### Cite: [COVID-19 Open Research Dataset Challenge (CORD-19) | Kaggle](https://www.kaggle.com/allen-institute-for-ai/CORD-19-research-challenge) \n",
        "> \n",
        "\n",
        "<br>"
      ]
    },
    {
      "cell_type": "markdown",
      "metadata": {
        "id": "tYKy6zxW-0q_"
      },
      "source": [
        "## Importing the necessary libraries:"
      ]
    },
    {
      "cell_type": "code",
      "metadata": {
        "id": "uQmPbDO070KB"
      },
      "source": [
        "import numpy as np # linear algebra for using Numpy advantages \n",
        "import pandas as pd # For reading the CSV file, data processing and other pandas advatages\n",
        "\n",
        "import matplotlib.pyplot as plt #For the visualization\n",
        "plt.style.use('ggplot') #To get the ability to set “styles” on the plots \n"
      ],
      "execution_count": null,
      "outputs": []
    },
    {
      "cell_type": "markdown",
      "metadata": {
        "id": "E-RuhRSq_bcJ"
      },
      "source": [
        "## Loading the data from Kaggle \n",
        "Additionally, there is an access to all articles in JSON files. (Eren et al, 2020) read all JSON files including the related articles and loaded them into a data frame called df_covid. In the time of this research, there were 85371 articles in JSON files, so the df_covid had to have 85371 rows. Working with such a huge data frame, makes the project slow and needs more space on Colab or Drive. Due to these limitations, 10000 rows of the main df_covid were chosen as a new df_covid data frame by this research. The data set related to the new data frame is imported here to be used for literature clustering:"
      ]
    },
    {
      "cell_type": "markdown",
      "metadata": {
        "id": "CzWI4HfhFrNk"
      },
      "source": [
        "To use the data, my Google drive is mounted with Colab to have an access to the Google Drive files"
      ]
    },
    {
      "cell_type": "code",
      "metadata": {
        "id": "KRapNtnwH5Py"
      },
      "source": [
        "#PLEASE RUN THIS CELL FOR HAVING ACCESS TO THE DATA SET\n",
        "url = \"https://drive.google.com/uc?export=download&id=1--awfaKq5XEdbnT6KHpVUKZcTm7HUDBc\"\n",
        "\n",
        "df_covid = pd.read_excel(url)\n"
      ],
      "execution_count": null,
      "outputs": []
    },
    {
      "cell_type": "code",
      "metadata": {
        "id": "cxPJjYHPCmrj",
        "colab": {
          "base_uri": "https://localhost:8080/",
          "height": 1000
        },
        "outputId": "56b363d4-a7d6-4a64-b9ee-dd25cbf133ba"
      },
      "source": [
        "df_covid"
      ],
      "execution_count": null,
      "outputs": [
        {
          "output_type": "execute_result",
          "data": {
            "text/html": [
              "<div>\n",
              "<style scoped>\n",
              "    .dataframe tbody tr th:only-of-type {\n",
              "        vertical-align: middle;\n",
              "    }\n",
              "\n",
              "    .dataframe tbody tr th {\n",
              "        vertical-align: top;\n",
              "    }\n",
              "\n",
              "    .dataframe thead th {\n",
              "        text-align: right;\n",
              "    }\n",
              "</style>\n",
              "<table border=\"1\" class=\"dataframe\">\n",
              "  <thead>\n",
              "    <tr style=\"text-align: right;\">\n",
              "      <th></th>\n",
              "      <th>paper_id</th>\n",
              "      <th>doi</th>\n",
              "      <th>abstract</th>\n",
              "      <th>body_text</th>\n",
              "      <th>authors</th>\n",
              "      <th>title</th>\n",
              "      <th>journal</th>\n",
              "      <th>abstract_summary</th>\n",
              "      <th>abstract_word_count</th>\n",
              "      <th>body_word_count</th>\n",
              "      <th>body_unique_words</th>\n",
              "    </tr>\n",
              "  </thead>\n",
              "  <tbody>\n",
              "    <tr>\n",
              "      <th>0</th>\n",
              "      <td>14572a7a9b3e92b960d92d9755979eb94c448bb5</td>\n",
              "      <td>10.3168/jds.s0022-0302(05)72740-5</td>\n",
              "      <td>The objective of this study was to evaluate th...</td>\n",
              "      <td>The periparturient period is an extremely impo...</td>\n",
              "      <td>Franklin, S.T..  Newman, M.C..  Newman, K.E.....</td>\n",
              "      <td>Immune Parameters of Dry Cows Fed Mannan&lt;br&gt;O...</td>\n",
              "      <td>Journal of Dairy Science</td>\n",
              "      <td>The objective of this study was to evaluate t...</td>\n",
              "      <td>281</td>\n",
              "      <td>5783</td>\n",
              "      <td>1383</td>\n",
              "    </tr>\n",
              "    <tr>\n",
              "      <th>1</th>\n",
              "      <td>bb790e8366da63c4f5e2d64fa7bbd5673b93063c</td>\n",
              "      <td>10.1016/0092-8674(87)90212-1</td>\n",
              "      <td>NaN</td>\n",
              "      <td>Transcription or RNA Processing of Vaccinia Vi...</td>\n",
              "      <td>Schwer, Beate.  Visca, Paolo.  Vos, Jan C.. &lt;...</td>\n",
              "      <td>Discontinuous transcription or RNA&lt;br&gt;process...</td>\n",
              "      <td>Cell</td>\n",
              "      <td>Not provided.</td>\n",
              "      <td>0</td>\n",
              "      <td>4020</td>\n",
              "      <td>1110</td>\n",
              "    </tr>\n",
              "    <tr>\n",
              "      <th>2</th>\n",
              "      <td>7951a3ab59f6981023756dfce00760c1b29f58a4</td>\n",
              "      <td>10.1016/j.vetmic.2017.02.007</td>\n",
              "      <td>NaN</td>\n",
              "      <td>Zoonosis is derived from the Greek words \"zoon...</td>\n",
              "      <td>Neo, Jacqueline Pei Shan.  Tan, Boon Huan</td>\n",
              "      <td>The use of animals as a surveillance tool for...</td>\n",
              "      <td>Veterinary Microbiology</td>\n",
              "      <td>Not provided.</td>\n",
              "      <td>0</td>\n",
              "      <td>5138</td>\n",
              "      <td>1914</td>\n",
              "    </tr>\n",
              "    <tr>\n",
              "      <th>3</th>\n",
              "      <td>0cc1af1eb5f4d82bd01e25df342a5678c0588e98</td>\n",
              "      <td>10.1016/j.eimce.2018.05.018</td>\n",
              "      <td>Ribavirin is a molecule with antiviral activit...</td>\n",
              "      <td>Ribavirin is a molecule which was synthesised ...</td>\n",
              "      <td>Ramírez-Olivencia, German.  Estébanez,&lt;br&gt;Mir...</td>\n",
              "      <td>Use of ribavirin in viruses other than&lt;br&gt;hep...</td>\n",
              "      <td>Enfermedades infecciosas y microbiologia clini...</td>\n",
              "      <td>Ribavirin is a molecule with antiviral&lt;br&gt;act...</td>\n",
              "      <td>181</td>\n",
              "      <td>3166</td>\n",
              "      <td>1150</td>\n",
              "    </tr>\n",
              "    <tr>\n",
              "      <th>4</th>\n",
              "      <td>cd92f91038067e7a10aa27d676ce696e1e4d67ce</td>\n",
              "      <td>10.3892/etm.2016.3698</td>\n",
              "      <td>Mesenchymal stem cells have been widely studie...</td>\n",
              "      <td>Osteonecrosis of the femoral head (ONFH) is a ...</td>\n",
              "      <td>Zhu, Zhen-Hong.  Song, Wen-Qi.  Zhang,&lt;br&gt;Cha...</td>\n",
              "      <td>Dimethyloxaloylglycine increases bone&lt;br&gt;repa...</td>\n",
              "      <td>Exp Ther Med</td>\n",
              "      <td>Mesenchymal stem cells have been widely&lt;br&gt;st...</td>\n",
              "      <td>246</td>\n",
              "      <td>3711</td>\n",
              "      <td>1298</td>\n",
              "    </tr>\n",
              "    <tr>\n",
              "      <th>...</th>\n",
              "      <td>...</td>\n",
              "      <td>...</td>\n",
              "      <td>...</td>\n",
              "      <td>...</td>\n",
              "      <td>...</td>\n",
              "      <td>...</td>\n",
              "      <td>...</td>\n",
              "      <td>...</td>\n",
              "      <td>...</td>\n",
              "      <td>...</td>\n",
              "      <td>...</td>\n",
              "    </tr>\n",
              "    <tr>\n",
              "      <th>9995</th>\n",
              "      <td>7b0bf82fab65c61cf4cf8530eb2c9fad3b4d2d4c</td>\n",
              "      <td>10.1046/j.1365-2656.1999.00360.x</td>\n",
              "      <td>1. We present data on the temporal dynamics of...</td>\n",
              "      <td>The temporal dynamics of viral pathogens depen...</td>\n",
              "      <td>Packer, C..  Altizer, S..  Appel, M..  Brown,...</td>\n",
              "      <td>Viruses of the Serengeti: patterns of&lt;br&gt;infe...</td>\n",
              "      <td>J Anim Ecol</td>\n",
              "      <td>1. We present data on the temporal dynamics o...</td>\n",
              "      <td>237</td>\n",
              "      <td>6154</td>\n",
              "      <td>1625</td>\n",
              "    </tr>\n",
              "    <tr>\n",
              "      <th>9996</th>\n",
              "      <td>3bf0902346541d9c58458ab14fc97d2f95e2f63d</td>\n",
              "      <td>10.1186/1477-7525-8-66</td>\n",
              "      <td>Background: The current study explored the pre...</td>\n",
              "      <td>Coping refers to the \"thoughts and behaviors t...</td>\n",
              "      <td>Zong, Ji-Gang.  Cao, Xiao-Yan.  Cao, Yuan.  S...</td>\n",
              "      <td>Coping flexibility in college students with&lt;b...</td>\n",
              "      <td>Health Qual Life Outcomes</td>\n",
              "      <td>Background: The current study explored the&lt;br...</td>\n",
              "      <td>251</td>\n",
              "      <td>2839</td>\n",
              "      <td>938</td>\n",
              "    </tr>\n",
              "    <tr>\n",
              "      <th>9997</th>\n",
              "      <td>adbb0a486cf43c474df8b8b86fa6eacd422b171c</td>\n",
              "      <td>10.1186/1743-422x-10-294</td>\n",
              "      <td>Although primary isolation of HMPV has been ac...</td>\n",
              "      <td>Human metapneumovirus (HMPV) is a new member o...</td>\n",
              "      <td>Loo, Liat Hui.  Jumat, Muhammad Raihan.  Fu, ...</td>\n",
              "      <td>Evidence for the interaction of the human&lt;br&gt;...</td>\n",
              "      <td>Virol J</td>\n",
              "      <td>Although primary isolation of HMPV has been&lt;b...</td>\n",
              "      <td>331</td>\n",
              "      <td>4458</td>\n",
              "      <td>1249</td>\n",
              "    </tr>\n",
              "    <tr>\n",
              "      <th>9998</th>\n",
              "      <td>266001fc1cb47ad54d5b645c3b4c617813c43e3c</td>\n",
              "      <td>10.1101/2020.04.26.20080242</td>\n",
              "      <td>At this moment, the world leaves under the SAR...</td>\n",
              "      <td>Since the first described cases of severe acut...</td>\n",
              "      <td>Carlos M Chiesa-Estomba.  Jerome R Lechien. &lt;...</td>\n",
              "      <td>Systematic review of international&lt;br&gt;guideli...</td>\n",
              "      <td>NaN</td>\n",
              "      <td>At this moment, the world leaves under the&lt;br...</td>\n",
              "      <td>111</td>\n",
              "      <td>3840</td>\n",
              "      <td>1169</td>\n",
              "    </tr>\n",
              "    <tr>\n",
              "      <th>9999</th>\n",
              "      <td>85bd238e891ec39cfaca1cf2689fef55568986ca</td>\n",
              "      <td>10.1016/j.physa.2014.04.028</td>\n",
              "      <td>h i g h l i g h t s\\n• We obtained a spatial e...</td>\n",
              "      <td>With the development of human civilization, in...</td>\n",
              "      <td>Wang, Tao</td>\n",
              "      <td>Dynamics of an epidemic model with spatial&lt;br...</td>\n",
              "      <td>Physica A: Statistical Mechanics and its Appli...</td>\n",
              "      <td>h i g h l i g h t s\\n• We obtained a spatial ...</td>\n",
              "      <td>149</td>\n",
              "      <td>2555</td>\n",
              "      <td>875</td>\n",
              "    </tr>\n",
              "  </tbody>\n",
              "</table>\n",
              "<p>10000 rows × 11 columns</p>\n",
              "</div>"
            ],
            "text/plain": [
              "                                      paper_id  ... body_unique_words\n",
              "0     14572a7a9b3e92b960d92d9755979eb94c448bb5  ...              1383\n",
              "1     bb790e8366da63c4f5e2d64fa7bbd5673b93063c  ...              1110\n",
              "2     7951a3ab59f6981023756dfce00760c1b29f58a4  ...              1914\n",
              "3     0cc1af1eb5f4d82bd01e25df342a5678c0588e98  ...              1150\n",
              "4     cd92f91038067e7a10aa27d676ce696e1e4d67ce  ...              1298\n",
              "...                                        ...  ...               ...\n",
              "9995  7b0bf82fab65c61cf4cf8530eb2c9fad3b4d2d4c  ...              1625\n",
              "9996  3bf0902346541d9c58458ab14fc97d2f95e2f63d  ...               938\n",
              "9997  adbb0a486cf43c474df8b8b86fa6eacd422b171c  ...              1249\n",
              "9998  266001fc1cb47ad54d5b645c3b4c617813c43e3c  ...              1169\n",
              "9999  85bd238e891ec39cfaca1cf2689fef55568986ca  ...               875\n",
              "\n",
              "[10000 rows x 11 columns]"
            ]
          },
          "metadata": {
            "tags": []
          },
          "execution_count": 3
        }
      ]
    },
    {
      "cell_type": "markdown",
      "metadata": {
        "id": "86GcetJj70K7"
      },
      "source": [
        "## Handle Possible Duplicates\n",
        "There should be duplicated articles in the data frame since some articles are submitted in different journals There should be duplicated articles in the data frame since some articles are submitted in different journals. Therefore, (Eren et al, 2020) checked the number of duplicates in the abstracts with the code below:\n",
        "\n"
      ]
    },
    {
      "cell_type": "code",
      "metadata": {
        "id": "5oYdOsJJ70K9",
        "colab": {
          "base_uri": "https://localhost:8080/",
          "height": 102
        },
        "outputId": "83c0f01e-0a39-4989-d46a-d4e0a55a52b3"
      },
      "source": [
        "df_covid.drop_duplicates(['abstract', 'body_text'], inplace=True)\n",
        "df_covid['abstract'].describe(include='all')"
      ],
      "execution_count": null,
      "outputs": [
        {
          "output_type": "execute_result",
          "data": {
            "text/plain": [
              "count           7072\n",
              "unique          7059\n",
              "top       PLOS ONE |\n",
              "freq               3\n",
              "Name: abstract, dtype: object"
            ]
          },
          "metadata": {
            "tags": []
          },
          "execution_count": 4
        }
      ]
    },
    {
      "cell_type": "markdown",
      "metadata": {
        "id": "ntz9ia3pCoU8"
      },
      "source": [
        "As you can see, there are 7072 abstracts for articles from which 7059 abstracts are unique and 13 of them are duplicates. (Eren et al, 2020) aslo checked the duplicates in the bodies of the articles: "
      ]
    },
    {
      "cell_type": "code",
      "metadata": {
        "id": "LjYlmQtk70LB",
        "colab": {
          "base_uri": "https://localhost:8080/",
          "height": 102
        },
        "outputId": "ce816bda-6b0d-4508-d9bd-6012ddc4db82"
      },
      "source": [
        "df_covid['body_text'].describe(include='all')"
      ],
      "execution_count": null,
      "outputs": [
        {
          "output_type": "execute_result",
          "data": {
            "text/plain": [
              "count                                                  9997\n",
              "unique                                                 9997\n",
              "top       Interferon induced transmembrane proteins (IFI...\n",
              "freq                                                      1\n",
              "Name: body_text, dtype: object"
            ]
          },
          "metadata": {
            "tags": []
          },
          "execution_count": 5
        }
      ]
    },
    {
      "cell_type": "markdown",
      "metadata": {
        "id": "l6BZxinj70LG"
      },
      "source": [
        "It looks like there is no duplicate in terms of the text bodies. There are 2925 articles without Abstracts."
      ]
    },
    {
      "cell_type": "markdown",
      "metadata": {
        "id": "PdT37U5T70LI"
      },
      "source": [
        "## a Look at the Data:"
      ]
    },
    {
      "cell_type": "code",
      "metadata": {
        "id": "zmOxNxDe70LK",
        "colab": {
          "base_uri": "https://localhost:8080/",
          "height": 598
        },
        "outputId": "f11d36db-2f46-4398-8ca0-0cb04eafa3fd"
      },
      "source": [
        "df_covid.head()"
      ],
      "execution_count": null,
      "outputs": [
        {
          "output_type": "execute_result",
          "data": {
            "text/html": [
              "<div>\n",
              "<style scoped>\n",
              "    .dataframe tbody tr th:only-of-type {\n",
              "        vertical-align: middle;\n",
              "    }\n",
              "\n",
              "    .dataframe tbody tr th {\n",
              "        vertical-align: top;\n",
              "    }\n",
              "\n",
              "    .dataframe thead th {\n",
              "        text-align: right;\n",
              "    }\n",
              "</style>\n",
              "<table border=\"1\" class=\"dataframe\">\n",
              "  <thead>\n",
              "    <tr style=\"text-align: right;\">\n",
              "      <th></th>\n",
              "      <th>paper_id</th>\n",
              "      <th>doi</th>\n",
              "      <th>abstract</th>\n",
              "      <th>body_text</th>\n",
              "      <th>authors</th>\n",
              "      <th>title</th>\n",
              "      <th>journal</th>\n",
              "      <th>abstract_summary</th>\n",
              "      <th>abstract_word_count</th>\n",
              "      <th>body_word_count</th>\n",
              "      <th>body_unique_words</th>\n",
              "    </tr>\n",
              "  </thead>\n",
              "  <tbody>\n",
              "    <tr>\n",
              "      <th>0</th>\n",
              "      <td>14572a7a9b3e92b960d92d9755979eb94c448bb5</td>\n",
              "      <td>10.3168/jds.s0022-0302(05)72740-5</td>\n",
              "      <td>The objective of this study was to evaluate th...</td>\n",
              "      <td>The periparturient period is an extremely impo...</td>\n",
              "      <td>Franklin, S.T..  Newman, M.C..  Newman, K.E.....</td>\n",
              "      <td>Immune Parameters of Dry Cows Fed Mannan&lt;br&gt;O...</td>\n",
              "      <td>Journal of Dairy Science</td>\n",
              "      <td>The objective of this study was to evaluate t...</td>\n",
              "      <td>281</td>\n",
              "      <td>5783</td>\n",
              "      <td>1383</td>\n",
              "    </tr>\n",
              "    <tr>\n",
              "      <th>1</th>\n",
              "      <td>bb790e8366da63c4f5e2d64fa7bbd5673b93063c</td>\n",
              "      <td>10.1016/0092-8674(87)90212-1</td>\n",
              "      <td>NaN</td>\n",
              "      <td>Transcription or RNA Processing of Vaccinia Vi...</td>\n",
              "      <td>Schwer, Beate.  Visca, Paolo.  Vos, Jan C.. &lt;...</td>\n",
              "      <td>Discontinuous transcription or RNA&lt;br&gt;process...</td>\n",
              "      <td>Cell</td>\n",
              "      <td>Not provided.</td>\n",
              "      <td>0</td>\n",
              "      <td>4020</td>\n",
              "      <td>1110</td>\n",
              "    </tr>\n",
              "    <tr>\n",
              "      <th>2</th>\n",
              "      <td>7951a3ab59f6981023756dfce00760c1b29f58a4</td>\n",
              "      <td>10.1016/j.vetmic.2017.02.007</td>\n",
              "      <td>NaN</td>\n",
              "      <td>Zoonosis is derived from the Greek words \"zoon...</td>\n",
              "      <td>Neo, Jacqueline Pei Shan.  Tan, Boon Huan</td>\n",
              "      <td>The use of animals as a surveillance tool for...</td>\n",
              "      <td>Veterinary Microbiology</td>\n",
              "      <td>Not provided.</td>\n",
              "      <td>0</td>\n",
              "      <td>5138</td>\n",
              "      <td>1914</td>\n",
              "    </tr>\n",
              "    <tr>\n",
              "      <th>3</th>\n",
              "      <td>0cc1af1eb5f4d82bd01e25df342a5678c0588e98</td>\n",
              "      <td>10.1016/j.eimce.2018.05.018</td>\n",
              "      <td>Ribavirin is a molecule with antiviral activit...</td>\n",
              "      <td>Ribavirin is a molecule which was synthesised ...</td>\n",
              "      <td>Ramírez-Olivencia, German.  Estébanez,&lt;br&gt;Mir...</td>\n",
              "      <td>Use of ribavirin in viruses other than&lt;br&gt;hep...</td>\n",
              "      <td>Enfermedades infecciosas y microbiologia clini...</td>\n",
              "      <td>Ribavirin is a molecule with antiviral&lt;br&gt;act...</td>\n",
              "      <td>181</td>\n",
              "      <td>3166</td>\n",
              "      <td>1150</td>\n",
              "    </tr>\n",
              "    <tr>\n",
              "      <th>4</th>\n",
              "      <td>cd92f91038067e7a10aa27d676ce696e1e4d67ce</td>\n",
              "      <td>10.3892/etm.2016.3698</td>\n",
              "      <td>Mesenchymal stem cells have been widely studie...</td>\n",
              "      <td>Osteonecrosis of the femoral head (ONFH) is a ...</td>\n",
              "      <td>Zhu, Zhen-Hong.  Song, Wen-Qi.  Zhang,&lt;br&gt;Cha...</td>\n",
              "      <td>Dimethyloxaloylglycine increases bone&lt;br&gt;repa...</td>\n",
              "      <td>Exp Ther Med</td>\n",
              "      <td>Mesenchymal stem cells have been widely&lt;br&gt;st...</td>\n",
              "      <td>246</td>\n",
              "      <td>3711</td>\n",
              "      <td>1298</td>\n",
              "    </tr>\n",
              "  </tbody>\n",
              "</table>\n",
              "</div>"
            ],
            "text/plain": [
              "                                   paper_id  ... body_unique_words\n",
              "0  14572a7a9b3e92b960d92d9755979eb94c448bb5  ...              1383\n",
              "1  bb790e8366da63c4f5e2d64fa7bbd5673b93063c  ...              1110\n",
              "2  7951a3ab59f6981023756dfce00760c1b29f58a4  ...              1914\n",
              "3  0cc1af1eb5f4d82bd01e25df342a5678c0588e98  ...              1150\n",
              "4  cd92f91038067e7a10aa27d676ce696e1e4d67ce  ...              1298\n",
              "\n",
              "[5 rows x 11 columns]"
            ]
          },
          "metadata": {
            "tags": []
          },
          "execution_count": 6
        }
      ]
    },
    {
      "cell_type": "markdown",
      "metadata": {
        "id": "IL1_QgKa70LO"
      },
      "source": [
        "In the majority of this notebook we will be working with **body_text** <br>\n",
        "Links to the papers will be generated using **doi** (Eren et al, 2020)."
      ]
    },
    {
      "cell_type": "code",
      "metadata": {
        "id": "uhbMBVwj70LO",
        "colab": {
          "base_uri": "https://localhost:8080/",
          "height": 297
        },
        "outputId": "afe117b8-0b24-4dd5-bb09-d45f20ec7d5a"
      },
      "source": [
        "df_covid.describe()"
      ],
      "execution_count": null,
      "outputs": [
        {
          "output_type": "execute_result",
          "data": {
            "text/html": [
              "<div>\n",
              "<style scoped>\n",
              "    .dataframe tbody tr th:only-of-type {\n",
              "        vertical-align: middle;\n",
              "    }\n",
              "\n",
              "    .dataframe tbody tr th {\n",
              "        vertical-align: top;\n",
              "    }\n",
              "\n",
              "    .dataframe thead th {\n",
              "        text-align: right;\n",
              "    }\n",
              "</style>\n",
              "<table border=\"1\" class=\"dataframe\">\n",
              "  <thead>\n",
              "    <tr style=\"text-align: right;\">\n",
              "      <th></th>\n",
              "      <th>abstract_word_count</th>\n",
              "      <th>body_word_count</th>\n",
              "      <th>body_unique_words</th>\n",
              "    </tr>\n",
              "  </thead>\n",
              "  <tbody>\n",
              "    <tr>\n",
              "      <th>count</th>\n",
              "      <td>9999.000000</td>\n",
              "      <td>9999.000000</td>\n",
              "      <td>9999.000000</td>\n",
              "    </tr>\n",
              "    <tr>\n",
              "      <th>mean</th>\n",
              "      <td>151.856286</td>\n",
              "      <td>4365.147615</td>\n",
              "      <td>1341.036104</td>\n",
              "    </tr>\n",
              "    <tr>\n",
              "      <th>std</th>\n",
              "      <td>157.781730</td>\n",
              "      <td>6376.648651</td>\n",
              "      <td>1134.961420</td>\n",
              "    </tr>\n",
              "    <tr>\n",
              "      <th>min</th>\n",
              "      <td>0.000000</td>\n",
              "      <td>1.000000</td>\n",
              "      <td>1.000000</td>\n",
              "    </tr>\n",
              "    <tr>\n",
              "      <th>25%</th>\n",
              "      <td>0.000000</td>\n",
              "      <td>2052.500000</td>\n",
              "      <td>805.000000</td>\n",
              "    </tr>\n",
              "    <tr>\n",
              "      <th>50%</th>\n",
              "      <td>151.000000</td>\n",
              "      <td>3417.000000</td>\n",
              "      <td>1176.000000</td>\n",
              "    </tr>\n",
              "    <tr>\n",
              "      <th>75%</th>\n",
              "      <td>229.000000</td>\n",
              "      <td>5214.000000</td>\n",
              "      <td>1617.000000</td>\n",
              "    </tr>\n",
              "    <tr>\n",
              "      <th>max</th>\n",
              "      <td>2895.000000</td>\n",
              "      <td>241076.000000</td>\n",
              "      <td>38298.000000</td>\n",
              "    </tr>\n",
              "  </tbody>\n",
              "</table>\n",
              "</div>"
            ],
            "text/plain": [
              "       abstract_word_count  body_word_count  body_unique_words\n",
              "count          9999.000000      9999.000000        9999.000000\n",
              "mean            151.856286      4365.147615        1341.036104\n",
              "std             157.781730      6376.648651        1134.961420\n",
              "min               0.000000         1.000000           1.000000\n",
              "25%               0.000000      2052.500000         805.000000\n",
              "50%             151.000000      3417.000000        1176.000000\n",
              "75%             229.000000      5214.000000        1617.000000\n",
              "max            2895.000000    241076.000000       38298.000000"
            ]
          },
          "metadata": {
            "tags": []
          },
          "execution_count": 7
        }
      ]
    },
    {
      "cell_type": "markdown",
      "metadata": {
        "id": "W013Xq0_70LR"
      },
      "source": [
        "# Data Pre-processing"
      ]
    },
    {
      "cell_type": "markdown",
      "metadata": {
        "id": "QiVHNkcx70Le"
      },
      "source": [
        "Now that we have our dataset loaded, we need to clean-up the text to improve any clustering or classification efforts. First, let's drop Null vales:"
      ]
    },
    {
      "cell_type": "code",
      "metadata": {
        "id": "3v52JrrQ70Le",
        "colab": {
          "base_uri": "https://localhost:8080/",
          "height": 323
        },
        "outputId": "93209f65-b6a4-4467-8b19-dda8ac6e5e23"
      },
      "source": [
        "df_covid.dropna(inplace=True)\n",
        "df_covid.info()"
      ],
      "execution_count": null,
      "outputs": [
        {
          "output_type": "stream",
          "text": [
            "<class 'pandas.core.frame.DataFrame'>\n",
            "Int64Index: 6166 entries, 0 to 9999\n",
            "Data columns (total 11 columns):\n",
            " #   Column               Non-Null Count  Dtype \n",
            "---  ------               --------------  ----- \n",
            " 0   paper_id             6166 non-null   object\n",
            " 1   doi                  6166 non-null   object\n",
            " 2   abstract             6166 non-null   object\n",
            " 3   body_text            6166 non-null   object\n",
            " 4   authors              6166 non-null   object\n",
            " 5   title                6166 non-null   object\n",
            " 6   journal              6166 non-null   object\n",
            " 7   abstract_summary     6166 non-null   object\n",
            " 8   abstract_word_count  6166 non-null   int64 \n",
            " 9   body_word_count      6166 non-null   int64 \n",
            " 10  body_unique_words    6166 non-null   int64 \n",
            "dtypes: int64(3), object(8)\n",
            "memory usage: 578.1+ KB\n"
          ],
          "name": "stdout"
        }
      ]
    },
    {
      "cell_type": "markdown",
      "metadata": {
        "id": "R8Kdxeiq70Lh"
      },
      "source": [
        "## Handling multiple languages\n",
        "Then, the language of articles are determined since some of them are not in English and should be deleted (Eren et al, 2020).\n",
        "In text mining one of the important steps is language identification. It is about which natural language given content is in. The “langdetect” is used to identify the language of texts, and it is a really powerful tool since we tried in the codes below with two very similar languages (Farsi and Arabic have almost the same fonts), and it worked well:"
      ]
    },
    {
      "cell_type": "code",
      "metadata": {
        "id": "KlIcmYe-IXL4",
        "colab": {
          "base_uri": "https://localhost:8080/",
          "height": 224
        },
        "outputId": "a7780012-17ac-483d-e91d-a618f6b27edc"
      },
      "source": [
        "pip install langdetect"
      ],
      "execution_count": null,
      "outputs": [
        {
          "output_type": "stream",
          "text": [
            "Collecting langdetect\n",
            "\u001b[?25l  Downloading https://files.pythonhosted.org/packages/56/a3/8407c1e62d5980188b4acc45ef3d94b933d14a2ebc9ef3505f22cf772570/langdetect-1.0.8.tar.gz (981kB)\n",
            "\u001b[K     |████████████████████████████████| 983kB 2.6MB/s \n",
            "\u001b[?25hRequirement already satisfied: six in /usr/local/lib/python3.6/dist-packages (from langdetect) (1.12.0)\n",
            "Building wheels for collected packages: langdetect\n",
            "  Building wheel for langdetect (setup.py) ... \u001b[?25l\u001b[?25hdone\n",
            "  Created wheel for langdetect: filename=langdetect-1.0.8-cp36-none-any.whl size=993193 sha256=77cdc96100cdc217242d9660c32fb3fae89a0e205ce57c30a9a517571762ba4b\n",
            "  Stored in directory: /root/.cache/pip/wheels/8d/b3/aa/6d99de9f3841d7d3d40a60ea06e6d669e8e5012e6c8b947a57\n",
            "Successfully built langdetect\n",
            "Installing collected packages: langdetect\n",
            "Successfully installed langdetect-1.0.8\n"
          ],
          "name": "stdout"
        }
      ]
    },
    {
      "cell_type": "code",
      "metadata": {
        "id": "9_qknfJErhMt",
        "colab": {
          "base_uri": "https://localhost:8080/",
          "height": 34
        },
        "outputId": "6d6402f3-c929-401d-8924-e91ef6901bdf"
      },
      "source": [
        "from langdetect import detect\n",
        "detect(\"و علیم السلام.\")\n"
      ],
      "execution_count": null,
      "outputs": [
        {
          "output_type": "execute_result",
          "data": {
            "text/plain": [
              "'ar'"
            ]
          },
          "metadata": {
            "tags": []
          },
          "execution_count": 10
        }
      ]
    },
    {
      "cell_type": "code",
      "metadata": {
        "id": "xhyGWrUyr_Sj",
        "colab": {
          "base_uri": "https://localhost:8080/",
          "height": 34
        },
        "outputId": "c3c20618-a278-4623-e541-2cebb3b1df1a"
      },
      "source": [
        "detect(\"سلام به همه.\")\n"
      ],
      "execution_count": null,
      "outputs": [
        {
          "output_type": "execute_result",
          "data": {
            "text/plain": [
              "'fa'"
            ]
          },
          "metadata": {
            "tags": []
          },
          "execution_count": 11
        }
      ]
    },
    {
      "cell_type": "code",
      "metadata": {
        "id": "rWQZ4Fa5sDuB",
        "colab": {
          "base_uri": "https://localhost:8080/",
          "height": 34
        },
        "outputId": "c6d1983a-e11f-43b1-ad94-101a0ae01e1a"
      },
      "source": [
        "detect(\"hello everyone I hope you are good\")"
      ],
      "execution_count": null,
      "outputs": [
        {
          "output_type": "execute_result",
          "data": {
            "text/plain": [
              "'en'"
            ]
          },
          "metadata": {
            "tags": []
          },
          "execution_count": 12
        }
      ]
    },
    {
      "cell_type": "markdown",
      "metadata": {
        "id": "618zS-eFsdaL"
      },
      "source": [
        "Then TQDM that is a progress bar library, and supports nested loops and Jupyter/IPython notebooks, is used. According to (Eren et al, 2020),  Detector Factory Class is also used. This class manages an initialization and construction of the language detector. Before using language detection library, it is needed to load profiles with DetectorFactory and set initialization parameters.\n",
        "When the language detection, it is needed to construct Detector instance via DetectorFactory.create()."
      ]
    },
    {
      "cell_type": "code",
      "metadata": {
        "id": "0CV_bQOZ70Li",
        "colab": {
          "base_uri": "https://localhost:8080/",
          "height": 34
        },
        "outputId": "63785a6b-4a8b-4e2a-ad8c-80f7097d0bf0"
      },
      "source": [
        "#all codes of this cell are from (Eren et al, 2020):\n",
        "from tqdm import tqdm\n",
        "from langdetect import detect\n",
        "from langdetect import DetectorFactory\n",
        "df = df_covid\n",
        "# set seed (Eren et al, 2020)\n",
        "DetectorFactory.seed = 0\n",
        "\n",
        "# language is determined to hold all language labels\n",
        "languages = []\n",
        "\n",
        "# go through each text (Eren et al, 2020)\n",
        "for ii in tqdm(range(0,len(df))):\n",
        "    # split by space into list, it takes the first x index, and joins it with space (Eren et al, 2020)\n",
        "    # so text is defined as a ndarray to keepm the words of the texts into a list\n",
        "    text = df.iloc[ii]['body_text'].split(\" \")\n",
        "    #it set the lang as a type of language (for example en)\n",
        "    #then in the for loop, the lang is being updated\n",
        "    lang = \"en\"\n",
        "    try:\n",
        "      #with these codes the author wants the system to detect the language with less than 50 words. \n",
        "        if len(text) > 50:\n",
        "            lang = detect(\" \".join(text[:50]))\n",
        "        elif len(text) > 0:\n",
        "            lang = detect(\" \".join(text[:len(text)]))\n",
        "    # ught... beginning of the document was not in a good format (Eren et al, 2020)\n",
        "    except Exception as e:\n",
        "        all_words = set(text)\n",
        "        try:\n",
        "            lang = detect(\" \".join(all_words))\n",
        "        # what!! :( let's see if we can find any text in abstract... (Eren et al, 2020)\n",
        "        except Exception as e:\n",
        "            \n",
        "            try:\n",
        "                # let's try to label it through the abstract then (Eren et al, 2020)\n",
        "                lang = detect(df.iloc[ii]['abstract_summary'])\n",
        "            except Exception as e:\n",
        "                lang = \"unknown\"\n",
        "                pass\n",
        "    \n",
        "    # get the language (Eren et al, 2020)   \n",
        "    languages.append(lang)"
      ],
      "execution_count": null,
      "outputs": [
        {
          "output_type": "stream",
          "text": [
            "100%|██████████| 6166/6166 [00:33<00:00, 184.69it/s]\n"
          ],
          "name": "stderr"
        }
      ]
    },
    {
      "cell_type": "code",
      "metadata": {
        "id": "WCTJKRWu4HE0",
        "colab": {
          "base_uri": "https://localhost:8080/",
          "height": 34
        },
        "outputId": "c14a57b7-3d53-4a35-ff26-67170da8b587"
      },
      "source": [
        "#as you can see, the list containing languages has 6166 elements which means 6166 articles now have determined languages \n",
        "print(len(languages))"
      ],
      "execution_count": null,
      "outputs": [
        {
          "output_type": "stream",
          "text": [
            "6166\n"
          ],
          "name": "stdout"
        }
      ]
    },
    {
      "cell_type": "code",
      "metadata": {
        "id": "Oqx8bH4x70Lm",
        "colab": {
          "base_uri": "https://localhost:8080/",
          "height": 204
        },
        "outputId": "ddc9ffd8-5d37-41af-8b4b-a364c736726d"
      },
      "source": [
        "#cite (Eren et al, 2020):\n",
        "#Here (Eren et al, 2020) defined a dictionary to count and keep the number of articles related to each detected language \n",
        "from pprint import pprint\n",
        "\n",
        "languages_dict = {}\n",
        "for lang in set(languages):\n",
        "    languages_dict[lang] = languages.count(lang)\n",
        "    \n",
        "print(\"Total: {}\\n\".format(len(languages)))\n",
        "pprint(languages_dict)"
      ],
      "execution_count": null,
      "outputs": [
        {
          "output_type": "stream",
          "text": [
            "Total: 6166\n",
            "\n",
            "{'cy': 1,\n",
            " 'de': 7,\n",
            " 'en': 6061,\n",
            " 'es': 35,\n",
            " 'fr': 54,\n",
            " 'it': 2,\n",
            " 'nl': 3,\n",
            " 'pl': 1,\n",
            " 'pt': 2}\n"
          ],
          "name": "stdout"
        }
      ]
    },
    {
      "cell_type": "markdown",
      "metadata": {
        "id": "u06dvXwV70Lp"
      },
      "source": [
        "Lets take a look at the language distribution in the dataset"
      ]
    },
    {
      "cell_type": "code",
      "metadata": {
        "id": "rGOUZR5R70Lq",
        "colab": {
          "base_uri": "https://localhost:8080/",
          "height": 282
        },
        "outputId": "f8c8cd42-5000-4e2f-ee6d-7e1941fd46e0"
      },
      "source": [
        "#cite (Eren et al, 2020):\n",
        "df['language'] = languages\n",
        "plt.bar(range(len(languages_dict)), list(languages_dict.values()), align='center')\n",
        "plt.xticks(range(len(languages_dict)), list(languages_dict.keys()))\n",
        "plt.title(\"Distribution of Languages in Dataset\")\n",
        "plt.show()"
      ],
      "execution_count": null,
      "outputs": [
        {
          "output_type": "display_data",
          "data": {
            "image/png": "[encoded data removed]",
            "text/plain": [
              "<Figure size 432x288 with 1 Axes>"
            ]
          },
          "metadata": {
            "tags": [],
            "needs_background": "light"
          }
        }
      ]
    },
    {
      "cell_type": "markdown",
      "metadata": {
        "id": "cFqUFRzF70Lu"
      },
      "source": [
        "\n",
        "Then, all non English articles should be deleted, so they do not cause misleading. Therefore, another data frame is defined to keep all rows related to the in English articles. This data frame is the main data frame from now."
      ]
    },
    {
      "cell_type": "code",
      "metadata": {
        "id": "IfDsWiNO70Lv",
        "colab": {
          "base_uri": "https://localhost:8080/",
          "height": 340
        },
        "outputId": "1c7f6bd0-0bfc-4df4-922f-8e3217187aea"
      },
      "source": [
        "#cite (Eren et al, 2020):\n",
        "df = df[df['language'] == 'en'] \n",
        "df.info()"
      ],
      "execution_count": null,
      "outputs": [
        {
          "output_type": "stream",
          "text": [
            "<class 'pandas.core.frame.DataFrame'>\n",
            "Int64Index: 6061 entries, 0 to 9999\n",
            "Data columns (total 12 columns):\n",
            " #   Column               Non-Null Count  Dtype \n",
            "---  ------               --------------  ----- \n",
            " 0   paper_id             6061 non-null   object\n",
            " 1   doi                  6061 non-null   object\n",
            " 2   abstract             6061 non-null   object\n",
            " 3   body_text            6061 non-null   object\n",
            " 4   authors              6061 non-null   object\n",
            " 5   title                6061 non-null   object\n",
            " 6   journal              6061 non-null   object\n",
            " 7   abstract_summary     6061 non-null   object\n",
            " 8   abstract_word_count  6061 non-null   int64 \n",
            " 9   body_word_count      6061 non-null   int64 \n",
            " 10  body_unique_words    6061 non-null   int64 \n",
            " 11  language             6061 non-null   object\n",
            "dtypes: int64(3), object(9)\n",
            "memory usage: 615.6+ KB\n"
          ],
          "name": "stdout"
        }
      ]
    },
    {
      "cell_type": "code",
      "metadata": {
        "id": "GawoArouKe77"
      },
      "source": [
        "#PLEASE IGNORE THIS CELL\n",
        "#df.to_excel(\"df.xlsx\")\n",
        "#df = pd.read_excel('df.xlsx')\n",
        "#df"
      ],
      "execution_count": null,
      "outputs": []
    },
    {
      "cell_type": "code",
      "metadata": {
        "id": "n__5AbDS70Lz",
        "colab": {
          "base_uri": "https://localhost:8080/",
          "height": 51
        },
        "outputId": "bfa5cbd5-08c7-4160-ebca-e65c4e879bec"
      },
      "source": [
        "# Download the spacy bio parser\n",
        "%%time\n",
        "from IPython.utils import io\n",
        "with io.capture_output() as captured:\n",
        "    !pip install https://s3-us-west-2.amazonaws.com/ai2-s2-scispacy/releases/v0.2.4/en_core_sci_lg-0.2.4.tar.gz"
      ],
      "execution_count": null,
      "outputs": [
        {
          "output_type": "stream",
          "text": [
            "CPU times: user 775 ms, sys: 1.92 s, total: 2.69 s\n",
            "Wall time: 1min 48s\n"
          ],
          "name": "stdout"
        }
      ]
    },
    {
      "cell_type": "code",
      "metadata": {
        "id": "kftgrAak70L1"
      },
      "source": [
        "#NLP \n",
        "import spacy\n",
        "from spacy.lang.en.stop_words import STOP_WORDS\n",
        "import en_core_sci_lg  # model downloaded in previous step"
      ],
      "execution_count": null,
      "outputs": []
    },
    {
      "cell_type": "markdown",
      "metadata": {
        "id": "3mQ8H_rx70L4"
      },
      "source": [
        "### Stopwords\n",
        " Removing stop-words is a useful technique to preprocess texts when we are working with raw or normalized term frequencies and not tf-idfs, which down weight frequently occurring words (Raschka and Mirjalili, 2, 3rd edition). Stop words are the words that exist in all kind of texts, so they bear a little fruitful information to be used to their cluster recognition (Raschka and Mirjalili, 2, 3rd edition). For example, am, is, and, has are stop words. "
      ]
    },
    {
      "cell_type": "markdown",
      "metadata": {
        "id": "KN7IgpSRz4F6"
      },
      "source": [
        "In (Raschka and Mirjalili, 2, 3rd edition) the author uses “nltk” stop words with the code below:"
      ]
    },
    {
      "cell_type": "code",
      "metadata": {
        "id": "n68guQbm0RSM",
        "colab": {
          "base_uri": "https://localhost:8080/",
          "height": 51
        },
        "outputId": "b26c6e2c-3303-4c84-b843-403aa504e7a7"
      },
      "source": [
        "pip install nltk"
      ],
      "execution_count": null,
      "outputs": [
        {
          "output_type": "stream",
          "text": [
            "Requirement already satisfied: nltk in /usr/local/lib/python3.6/dist-packages (3.2.5)\n",
            "Requirement already satisfied: six in /usr/local/lib/python3.6/dist-packages (from nltk) (1.12.0)\n"
          ],
          "name": "stdout"
        }
      ]
    },
    {
      "cell_type": "code",
      "metadata": {
        "id": "NclYzA41z5SS",
        "colab": {
          "base_uri": "https://localhost:8080/",
          "height": 68
        },
        "outputId": "516ea173-84ba-4306-8cbf-32d95084c042"
      },
      "source": [
        "#cite: (Raschka and Mirjalili, 2, 3rd edition)\n",
        "import nltk\n",
        "nltk.download('stopwords')\n",
        "#After we download the stop-words set, we can load and apply the English stop-word set as follows:\n",
        "from nltk.corpus import stopwords\n",
        "stop = stopwords.words('english')\n",
        "print(len(stop))\n"
      ],
      "execution_count": null,
      "outputs": [
        {
          "output_type": "stream",
          "text": [
            "[nltk_data] Downloading package stopwords to /root/nltk_data...\n",
            "[nltk_data]   Unzipping corpora/stopwords.zip.\n",
            "179\n"
          ],
          "name": "stdout"
        }
      ]
    },
    {
      "cell_type": "code",
      "metadata": {
        "id": "8P1piWQe70L5",
        "colab": {
          "base_uri": "https://localhost:8080/",
          "height": 255
        },
        "outputId": "be1e1e9a-85c7-40b3-c9b2-94436881ebcd"
      },
      "source": [
        "#cite: (Eren et al, 2020)\n",
        "import string\n",
        "\n",
        "punctuations = string.punctuation\n",
        "stopwords = list(STOP_WORDS)\n",
        "stopwords[:14]"
      ],
      "execution_count": null,
      "outputs": [
        {
          "output_type": "execute_result",
          "data": {
            "text/plain": [
              "['twenty',\n",
              " 'why',\n",
              " 'quite',\n",
              " 'thereupon',\n",
              " 'anywhere',\n",
              " '’d',\n",
              " 'within',\n",
              " 'forty',\n",
              " 'neither',\n",
              " 'even',\n",
              " 'everyone',\n",
              " 'hers',\n",
              " 'take',\n",
              " '’ll']"
            ]
          },
          "metadata": {
            "tags": []
          },
          "execution_count": 23
        }
      ]
    },
    {
      "cell_type": "code",
      "metadata": {
        "id": "LRn8nOg0zEMj",
        "colab": {
          "base_uri": "https://localhost:8080/",
          "height": 34
        },
        "outputId": "abfdb671-b260-4f28-9d76-cbe9e011d1f9"
      },
      "source": [
        "print(len(stopwords))"
      ],
      "execution_count": null,
      "outputs": [
        {
          "output_type": "stream",
          "text": [
            "326\n"
          ],
          "name": "stdout"
        }
      ]
    },
    {
      "cell_type": "markdown",
      "metadata": {
        "id": "T-1_FMg60q0p"
      },
      "source": [
        "As we checked, the list of stop words used by (Eren et al, 2020) includes 350 stop words, but the nltk stop words list which used by … contains 179 stop words. Therefore, the list of (Eren et al, 2020) is better to be used since is better able to delete noises."
      ]
    },
    {
      "cell_type": "markdown",
      "metadata": {
        "id": "kAvE5aMi70L8"
      },
      "source": [
        "According to Wolffram (2020), there are some stop words which are specially for articles. The list of stop words which is used in the previous cell is common words in every-day English. However, there are some stop words which exist in articles such as: doi, www, http and fig.The code below refers to these stop words, and each stop word which does not exist in common stop words is added to the list."
      ]
    },
    {
      "cell_type": "code",
      "metadata": {
        "id": "RLBhK8pN70L8"
      },
      "source": [
        "#cite: (Eren et al, 2020)\n",
        "custom_stop_words = [\n",
        "    'doi', 'preprint', 'copyright', 'peer', 'reviewed', 'org', 'https', 'et', 'al', 'author', 'figure', \n",
        "    'rights', 'reserved', 'permission', 'used', 'using', 'biorxiv', 'medrxiv', 'license', 'fig', 'fig.', \n",
        "    'al.', 'Elsevier', 'PMC', 'CZI', 'www'\n",
        "]\n",
        "\n",
        "for w in custom_stop_words:\n",
        "    if w not in stopwords:\n",
        "        stopwords.append(w)"
      ],
      "execution_count": null,
      "outputs": []
    },
    {
      "cell_type": "markdown",
      "metadata": {
        "id": "J5GSSroX70L_"
      },
      "source": [
        "### Processor Function \n",
        "In the cell below, Eren et al (2020) uses en_core_sci_lg which is a model specially for processing biomedical, scientific or clinical texts. This model is used to convert text to lower case, remove punctuation, and find and remove stopwords."
      ]
    },
    {
      "cell_type": "code",
      "metadata": {
        "id": "tAnQovZ-70L_"
      },
      "source": [
        "#cite: (Eren et al, 2020)\n",
        "# Parser\n",
        "parser = en_core_sci_lg.load(disable=[\"tagger\", \"ner\"])\n",
        "parser.max_length = 7000000\n",
        "\n",
        "def spacy_tokenizer(sentence):\n",
        "    mytokens = parser(sentence)\n",
        "    mytokens = [ word.lemma_.lower().strip() if word.lemma_ != \"-PRON-\" else word.lower_ for word in mytokens ]\n",
        "    mytokens = [ word for word in mytokens if word not in stopwords and word not in punctuations ]\n",
        "    mytokens = \" \".join([i for i in mytokens])\n",
        "    return mytokens"
      ],
      "execution_count": null,
      "outputs": []
    },
    {
      "cell_type": "markdown",
      "metadata": {
        "id": "bgRS9Ug570MB"
      },
      "source": [
        "In the codes below, another column is added to keep processed body texts and it should be utilized instead of the body text column in the other steps of the NLP. \n",
        "\n"
      ]
    },
    {
      "cell_type": "code",
      "metadata": {
        "id": "6F6BguPf70MC",
        "colab": {
          "base_uri": "https://localhost:8080/",
          "height": 190
        },
        "outputId": "58eca755-2762-456b-d88e-db8303c61594"
      },
      "source": [
        "%%time\n",
        "from tqdm import tqdm\n",
        "#cite: (Eren et al, 2020)\n",
        "tqdm.pandas()\n",
        "df[\"processed_text\"] = df[\"body_text\"].progress_apply(spacy_tokenizer)"
      ],
      "execution_count": null,
      "outputs": [
        {
          "output_type": "stream",
          "text": [
            "100%|██████████| 6061/6061 [30:41<00:00,  3.29it/s]"
          ],
          "name": "stderr"
        },
        {
          "output_type": "stream",
          "text": [
            "CPU times: user 30min 6s, sys: 36.3 s, total: 30min 43s\n",
            "Wall time: 30min 41s\n"
          ],
          "name": "stdout"
        },
        {
          "output_type": "stream",
          "text": [
            "\n",
            "/usr/local/lib/python3.6/dist-packages/ipykernel_launcher.py:4: SettingWithCopyWarning: \n",
            "A value is trying to be set on a copy of a slice from a DataFrame.\n",
            "Try using .loc[row_indexer,col_indexer] = value instead\n",
            "\n",
            "See the caveats in the documentation: https://pandas.pydata.org/pandas-docs/stable/user_guide/indexing.html#returning-a-view-versus-a-copy\n",
            "  after removing the cwd from sys.path.\n"
          ],
          "name": "stderr"
        }
      ]
    },
    {
      "cell_type": "code",
      "metadata": {
        "id": "bkxFsyXCr4Bm"
      },
      "source": [
        "#PLEASE IGNORE THIS CELL\n",
        "#df.to_excel(\"df2.xlsx\")\n",
        "#df = pd.read_excel('drive/My Drive/project/df2.xlsx')\n",
        "#df\n"
      ],
      "execution_count": null,
      "outputs": []
    },
    {
      "cell_type": "markdown",
      "metadata": {
        "id": "DQFkpG1r70MF"
      },
      "source": [
        "### How many words and unique words do the articles have in average?\n",
        "According to the plots above, the mean of the number of words is 4297 and for unique words is 1354. Almost 98% of the whole articles have less than 20000 words, so those that have more than 20000 could be outliers (Eren et al, 2020)."
      ]
    },
    {
      "cell_type": "code",
      "metadata": {
        "id": "zOa42kc_70MG",
        "colab": {
          "base_uri": "https://localhost:8080/",
          "height": 71
        },
        "outputId": "a554b681-4329-43de-e52c-e3004f32ece2"
      },
      "source": [
        "import seaborn as sns"
      ],
      "execution_count": null,
      "outputs": [
        {
          "output_type": "stream",
          "text": [
            "/usr/local/lib/python3.6/dist-packages/statsmodels/tools/_testing.py:19: FutureWarning: pandas.util.testing is deprecated. Use the functions in the public API at pandas.testing instead.\n",
            "  import pandas.util.testing as tm\n"
          ],
          "name": "stderr"
        }
      ]
    },
    {
      "cell_type": "code",
      "metadata": {
        "id": "xRcYB-jS70MK",
        "colab": {
          "base_uri": "https://localhost:8080/",
          "height": 435
        },
        "outputId": "edaa46c0-8425-4a5b-e76f-f0262e841fc2"
      },
      "source": [
        "#cite: (Eren et al, 2020)\n",
        "sns.distplot(df['body_word_count'])\n",
        "df['body_word_count'].describe()"
      ],
      "execution_count": null,
      "outputs": [
        {
          "output_type": "execute_result",
          "data": {
            "text/plain": [
              "count     6061.000000\n",
              "mean      4297.351427\n",
              "std       3312.853277\n",
              "min         12.000000\n",
              "25%       2608.000000\n",
              "50%       3708.000000\n",
              "75%       5348.000000\n",
              "max      94779.000000\n",
              "Name: body_word_count, dtype: float64"
            ]
          },
          "metadata": {
            "tags": []
          },
          "execution_count": 30
        },
        {
          "output_type": "display_data",
          "data": {
            "image/png": "[encoded data removed]",
            "text/plain": [
              "<Figure size 432x288 with 1 Axes>"
            ]
          },
          "metadata": {
            "tags": [],
            "needs_background": "light"
          }
        }
      ]
    },
    {
      "cell_type": "code",
      "metadata": {
        "id": "A2cID02270MN",
        "colab": {
          "base_uri": "https://localhost:8080/",
          "height": 435
        },
        "outputId": "aa85b8b7-6124-42a1-ed1b-587f08f528b4"
      },
      "source": [
        "#cite: (Eren et al, 2020)\n",
        "sns.distplot(df['body_unique_words'])\n",
        "df['body_unique_words'].describe()"
      ],
      "execution_count": null,
      "outputs": [
        {
          "output_type": "execute_result",
          "data": {
            "text/plain": [
              "count     6061.000000\n",
              "mean      1354.934334\n",
              "std        684.929376\n",
              "min          9.000000\n",
              "25%        957.000000\n",
              "50%       1246.000000\n",
              "75%       1643.000000\n",
              "max      14516.000000\n",
              "Name: body_unique_words, dtype: float64"
            ]
          },
          "metadata": {
            "tags": []
          },
          "execution_count": 31
        },
        {
          "output_type": "display_data",
          "data": {
            "image/png": "[encoded data removed]",
            "text/plain": [
              "<Figure size 432x288 with 1 Axes>"
            ]
          },
          "metadata": {
            "tags": [],
            "needs_background": "light"
          }
        }
      ]
    },
    {
      "cell_type": "markdown",
      "metadata": {
        "id": "_vyyTq7N70MP"
      },
      "source": [
        "# Vectorization\n",
        "Vividly, it is needed to convert categorical data, such as text or words, into a numerical form before we can pass it on to a machine learning algorithm (Raschka and Mirjalili, 2, 3rd edition). There are different methods to do this. For example, (Raschka and Mirjalili, 2, 3rd edition) introduces a method with the name “Bag-of-words” to convert texts to numerical feature vectors. Bag-of-words includes two steps. Firstly, a vocabulary of unique tokens—for example, words—from the entire set of documents is created. Secondly, a feature vector from each document that contains the counts of how often each word occurs in the particular document is constructed (Raschka and Mirjalili, 2, 3rd edition). Therefore, for each article as a row, there are a lot of zeros since each article does not have a lot of unique words. This situation causes curse of dimensionality which should be addressed. Bag-of-words can be run using CountVectorizer. In the case of the given research, it should be found that how important each word is to the instance out of the literature as a whole because of the purpose of this research, and it should be done by using tf-idf (Eren et al, 2020). "
      ]
    },
    {
      "cell_type": "markdown",
      "metadata": {
        "id": "DOEcvQcE3E6V"
      },
      "source": [
        "TfidfVectorizer is used to Convert a collection of raw documents to a matrix of TF-IDF features. In the codes below, vectorizer function is defined and it is fitted on the processed text column which was gained from the text bodies of the articles. Vectorizer is a combinition of CountVectorizer and TfidfTransformer, therefore (Eren et al, 2020) also uses bag-of-words method. As it is expected, X which is a sparse matrix (because of containing a lot of 0s) has a lot of columns as features (4096)"
      ]
    },
    {
      "cell_type": "markdown",
      "metadata": {
        "id": "IPHBnR1M70MS"
      },
      "source": [
        " The maximum number of features is restricted. Only the top 2 ** 12 = 4096 features are used, eseentially  for filtering noise and avoiding long run times (Eren et al, 2020)."
      ]
    },
    {
      "cell_type": "code",
      "metadata": {
        "id": "gqlx848970MQ"
      },
      "source": [
        "#cite: (Eren et al, 2020)\n",
        "from sklearn.feature_extraction.text import TfidfVectorizer\n",
        "def vectorize(text, maxx_features):\n",
        "    \n",
        "    vectorizer = TfidfVectorizer(max_features=maxx_features)\n",
        "    X = vectorizer.fit_transform(text)\n",
        "    return X"
      ],
      "execution_count": null,
      "outputs": []
    },
    {
      "cell_type": "code",
      "metadata": {
        "id": "Q70geAs070MT",
        "colab": {
          "base_uri": "https://localhost:8080/",
          "height": 34
        },
        "outputId": "5a82639f-304b-443f-962a-33c246aa1374"
      },
      "source": [
        "#cite: (Eren et al, 2020)\n",
        "text = df['processed_text'].values\n",
        "X = vectorize(text, 2 ** 12)\n",
        "X.shape"
      ],
      "execution_count": null,
      "outputs": [
        {
          "output_type": "execute_result",
          "data": {
            "text/plain": [
              "(6061, 4096)"
            ]
          },
          "metadata": {
            "tags": []
          },
          "execution_count": 33
        }
      ]
    },
    {
      "cell_type": "code",
      "metadata": {
        "id": "lPaKKfud6sz2",
        "colab": {
          "base_uri": "https://localhost:8080/",
          "height": 51
        },
        "outputId": "554e9923-ba1d-4146-c7e4-8f9503a86da0"
      },
      "source": [
        "X\n",
        "#X[0]"
      ],
      "execution_count": null,
      "outputs": [
        {
          "output_type": "execute_result",
          "data": {
            "text/plain": [
              "<6061x4096 sparse matrix of type '<class 'numpy.float64'>'\n",
              "\twith 3360379 stored elements in Compressed Sparse Row format>"
            ]
          },
          "metadata": {
            "tags": []
          },
          "execution_count": 34
        }
      ]
    },
    {
      "cell_type": "code",
      "metadata": {
        "id": "FxV7JlcEFXVn",
        "colab": {
          "base_uri": "https://localhost:8080/",
          "height": 884
        },
        "outputId": "20fb7fa2-dfdd-43b7-de86-14a6ab534930"
      },
      "source": [
        "print(X)"
      ],
      "execution_count": null,
      "outputs": [
        {
          "output_type": "stream",
          "text": [
            "  (0, 809)\t0.003946332355579019\n",
            "  (0, 2829)\t0.003404336197514766\n",
            "  (0, 2627)\t0.0025896774017810267\n",
            "  (0, 2277)\t0.0029465003063070066\n",
            "  (0, 3189)\t0.0031660261111268705\n",
            "  (0, 199)\t0.0037073726796716475\n",
            "  (0, 965)\t0.002607870246548154\n",
            "  (0, 2783)\t0.004038785890009024\n",
            "  (0, 1610)\t0.010751040960926038\n",
            "  (0, 1067)\t0.00208191816705326\n",
            "  (0, 3698)\t0.002863213052478788\n",
            "  (0, 2589)\t0.005253629500252826\n",
            "  (0, 1336)\t0.004015469764333077\n",
            "  (0, 273)\t0.0030111432860262244\n",
            "  (0, 1453)\t0.0023454021224829143\n",
            "  (0, 801)\t0.0028705799967099228\n",
            "  (0, 897)\t0.00373727512216699\n",
            "  (0, 288)\t0.00443850005972162\n",
            "  (0, 2729)\t0.0042593211814697714\n",
            "  (0, 1946)\t0.014440320741609017\n",
            "  (0, 415)\t0.0028658873864578147\n",
            "  (0, 802)\t0.004480345350358658\n",
            "  (0, 3070)\t0.01642508004714895\n",
            "  (0, 2288)\t0.022847927307367517\n",
            "  (0, 3386)\t0.004398587448474508\n",
            "  :\t:\n",
            "  (6060, 2933)\t0.07120979029616721\n",
            "  (6060, 967)\t0.02955994865017871\n",
            "  (6060, 3532)\t0.023258006095731244\n",
            "  (6060, 2655)\t0.015142891681875058\n",
            "  (6060, 1520)\t0.017381479613551423\n",
            "  (6060, 1659)\t0.00989814656669086\n",
            "  (6060, 1802)\t0.010338593717811127\n",
            "  (6060, 2567)\t0.07168861843207695\n",
            "  (6060, 2505)\t0.021108879855640892\n",
            "  (6060, 1760)\t0.03836619286015274\n",
            "  (6060, 3143)\t0.0447972534167581\n",
            "  (6060, 1990)\t0.007178805307669919\n",
            "  (6060, 96)\t0.013119348520040463\n",
            "  (6060, 1073)\t0.011956006559634875\n",
            "  (6060, 336)\t0.011251732893906595\n",
            "  (6060, 3936)\t0.030481753831833356\n",
            "  (6060, 3243)\t0.00836846466548767\n",
            "  (6060, 863)\t0.007737368834586567\n",
            "  (6060, 13)\t0.018984422452142154\n",
            "  (6060, 709)\t0.007585635775595567\n",
            "  (6060, 3706)\t0.11096111707409793\n",
            "  (6060, 1204)\t0.0730067304655065\n",
            "  (6060, 696)\t0.011189930487816148\n",
            "  (6060, 3775)\t0.05515964615211587\n",
            "  (6060, 1970)\t0.023460240597445482\n"
          ],
          "name": "stdout"
        }
      ]
    },
    {
      "cell_type": "code",
      "metadata": {
        "id": "sQ9QSk9uFIek"
      },
      "source": [
        "import scipy.sparse\n",
        "scipy.sparse.save_npz('sparse_matrix.npz' ,X)"
      ],
      "execution_count": null,
      "outputs": []
    },
    {
      "cell_type": "code",
      "metadata": {
        "id": "q0Z1mb3ZW7r1"
      },
      "source": [
        " #import scipy.sparse\n",
        "#X = scipy.sparse.load_npz('sparse_matrix.npz')"
      ],
      "execution_count": null,
      "outputs": []
    },
    {
      "cell_type": "markdown",
      "metadata": {
        "id": "Vm0u_6iO70MW"
      },
      "source": [
        "# Principle Component Analysis (PCA)\n",
        "\n",
        "Principle Component Analysis (PCA) is used to reduce the number of dimensions while still keeping 95% variance (defined by n_components). PCA removes some noise/outliers from the data, and makes the clustering problem easier for k-means (Eren et al, 2020). Although k-means needs the reduced feature matrix, t-SNE does not need it (Eren et al, 2020). It can work on the original X data set well."
      ]
    },
    {
      "cell_type": "code",
      "metadata": {
        "id": "AGAWTGrQ70MX",
        "colab": {
          "base_uri": "https://localhost:8080/",
          "height": 34
        },
        "outputId": "5534c608-c2e6-4970-fd6b-2a1934d3e741"
      },
      "source": [
        "#cite: (Eren et al, 2020)\n",
        "from sklearn.decomposition import PCA\n",
        "\n",
        "pca = PCA(n_components=0.95, random_state=42)\n",
        "X_reduced= pca.fit_transform(X.toarray())\n",
        "X_reduced.shape"
      ],
      "execution_count": null,
      "outputs": [
        {
          "output_type": "execute_result",
          "data": {
            "text/plain": [
              "(6061, 1929)"
            ]
          },
          "metadata": {
            "tags": []
          },
          "execution_count": 38
        }
      ]
    },
    {
      "cell_type": "code",
      "metadata": {
        "id": "7A1hEMaeC6P1",
        "colab": {
          "base_uri": "https://localhost:8080/",
          "height": 51
        },
        "outputId": "45bf10a5-e761-4900-d5cc-916258b21370"
      },
      "source": [
        "print(pca.explained_variance_ratio_)"
      ],
      "execution_count": null,
      "outputs": [
        {
          "output_type": "stream",
          "text": [
            "[2.59483191e-02 1.56330670e-02 1.46463762e-02 ... 7.02206072e-05\n",
            " 7.01056437e-05 6.99571404e-05]\n"
          ],
          "name": "stdout"
        }
      ]
    },
    {
      "cell_type": "code",
      "metadata": {
        "id": "XjOQs_Q6EKcu",
        "colab": {
          "base_uri": "https://localhost:8080/",
          "height": 68
        },
        "outputId": "95080478-9356-4116-c0d3-8b9ed3b8cbad"
      },
      "source": [
        "#cite: https://stackoverflow.com/questions/31909945/obtain-eigen-values-and-vectors-from-sklearn-pca/31941631\n",
        "eigen_vals = pca.explained_variance_\n",
        "print(eigen_vals)\n",
        "print(len(eigen_vals))"
      ],
      "execution_count": null,
      "outputs": [
        {
          "output_type": "stream",
          "text": [
            "[2.41046640e-02 1.45223213e-02 1.36057359e-02 ... 6.52313600e-05\n",
            " 6.51245648e-05 6.49866128e-05]\n",
            "1929\n"
          ],
          "name": "stdout"
        }
      ]
    },
    {
      "cell_type": "markdown",
      "metadata": {
        "id": "7W8vI_w3ApGW"
      },
      "source": [
        "According to Raschka and Mirjalili, \"using the NumPy cumsum function, we can then calculate the cumulative sum of explained variances, which we will then plot via Matplotlib's step function\" (Raschka and Mirjalili, 2, 3rd edition): "
      ]
    },
    {
      "cell_type": "code",
      "metadata": {
        "id": "zj1kjSYvAj1O",
        "colab": {
          "base_uri": "https://localhost:8080/",
          "height": 297
        },
        "outputId": "b144967b-6eec-4567-f4bc-718a840a87d4"
      },
      "source": [
        "# cite: (Raschka and Mirjalili, 2, 3rd edition)\n",
        "tot = sum(eigen_vals)\n",
        "var_exp = [(i / tot) for i in\n",
        "           sorted(eigen_vals, reverse=True)]         \n",
        "cum_var_exp = np.cumsum(var_exp)\n",
        "import matplotlib.pyplot as plt\n",
        "plt.bar(range(1,1930), var_exp, alpha=0.5, align='center', label='Individual explained variance')\n",
        "plt.step(range(1,1930), cum_var_exp, where='mid', label='Cumulative explained variance')\n",
        "plt.ylabel('Explained variance ratio')\n",
        "plt.xlabel('Principal component index')\n",
        "plt.legend(loc='best')\n",
        "plt.tight_layout()\n",
        "plt.show()"
      ],
      "execution_count": null,
      "outputs": [
        {
          "output_type": "display_data",
          "data": {
            "image/png": "[encoded data removed]",
            "text/plain": [
              "<Figure size 432x288 with 1 Axes>"
            ]
          },
          "metadata": {
            "tags": [],
            "needs_background": "light"
          }
        }
      ]
    },
    {
      "cell_type": "markdown",
      "metadata": {
        "id": "X6exEFQlOXcB"
      },
      "source": [
        "According to the plot above, to keep 0.95% explained variance ratio almost 1500 principal components are enough! However, (Eren et al, 2020) has used all 1930 principal components because PCA of SKlearn has given this number of principal components to maintain 0.95% explained variance ratio! Comparing two methods to implement PCA shows that SKlearn PCA gives more principal components than really needed ones."
      ]
    },
    {
      "cell_type": "code",
      "metadata": {
        "id": "Zys70VBjPhm9",
        "colab": {
          "base_uri": "https://localhost:8080/",
          "height": 238
        },
        "outputId": "8a9c5948-9856-4865-aca2-cb047fff42e9"
      },
      "source": [
        "print(X_reduced)"
      ],
      "execution_count": null,
      "outputs": [
        {
          "output_type": "stream",
          "text": [
            "[[ 0.00202304 -0.05685137 -0.10133652 ...  0.00129609  0.00122724\n",
            "  -0.00172533]\n",
            " [ 0.11987481  0.05436477 -0.02216537 ... -0.01179398 -0.00066165\n",
            "  -0.00763142]\n",
            " [-0.05485567  0.04650948 -0.09761645 ... -0.01661708  0.0133783\n",
            "  -0.02603494]\n",
            " ...\n",
            " [ 0.09900753 -0.05608552 -0.0481466  ...  0.00572602 -0.00461651\n",
            "  -0.00596645]\n",
            " [-0.26744688  0.05407407  0.01724143 ...  0.01039589 -0.01049232\n",
            "  -0.00648972]\n",
            " [ 0.08566855 -0.10227462 -0.01936694 ...  0.0174765  -0.00256707\n",
            "  -0.02631308]]\n"
          ],
          "name": "stdout"
        }
      ]
    },
    {
      "cell_type": "markdown",
      "metadata": {
        "id": "xplRfdq270Me"
      },
      "source": [
        "[source](https://en.wikipedia.org/wiki/K-means_clustering)"
      ]
    },
    {
      "cell_type": "markdown",
      "metadata": {
        "id": "zP2AwmCN70Ma"
      },
      "source": [
        "##K-means\n",
        "To use k-means as the main clustering algorithm, we need to identify the optimized k since k is a hyperparameter of k-means algorithm."
      ]
    },
    {
      "cell_type": "markdown",
      "metadata": {
        "id": "KwXms6Oq70Mf"
      },
      "source": [
        "### The optimized k value\n",
        "\n",
        "To find the optimized k value for k-means elbow method is used. It calculates distortion at different k values, and \"distortion computes the sum of squared distances from each point to its assigned center. When distortion is plotted against k there will be a k value after which decreases in distortion are minimal. This is the desired number of clusters\" (Eren et al, 2020)."
      ]
    },
    {
      "cell_type": "code",
      "metadata": {
        "id": "_DOS8eoZ70Ma"
      },
      "source": [
        "#cite: (Eren et al, 2020)\n",
        "from sklearn.cluster import KMeans"
      ],
      "execution_count": null,
      "outputs": []
    },
    {
      "cell_type": "code",
      "metadata": {
        "id": "Pk1nuAQS70Mg"
      },
      "source": [
        "#cite: (Eren et al, 2020)\n",
        "from sklearn import metrics\n",
        "from scipy.spatial.distance import cdist\n",
        "\n",
        "# run kmeans with many different k\n",
        "distortions = []\n",
        "K = range(2, 50)\n",
        "for k in K:\n",
        "    k_means = KMeans(n_clusters=k, random_state=42).fit(X_reduced)\n",
        "    k_means.fit(X_reduced)\n",
        "    distortions.append(sum(np.min(cdist(X_reduced, k_means.cluster_centers_, 'euclidean'), axis=1)) / X.shape[0])\n",
        "    #print('Found distortion for {} clusters'.format(k))"
      ],
      "execution_count": null,
      "outputs": []
    },
    {
      "cell_type": "code",
      "metadata": {
        "id": "ciKhoaqp70Mj"
      },
      "source": [
        "#cite: (Eren et al, 2020)\n",
        "X_line = [K[0], K[-1]]\n",
        "Y_line = [distortions[0], distortions[-1]]\n",
        "\n",
        "# Plot the elbow\n",
        "plt.plot(K, distortions, 'b-')\n",
        "plt.plot(X_line, Y_line, 'r')\n",
        "plt.xlabel('k')\n",
        "plt.ylabel('Distortion')\n",
        "plt.title('The Elbow Method showing the optimal k')\n",
        "plt.show()"
      ],
      "execution_count": null,
      "outputs": []
    },
    {
      "cell_type": "markdown",
      "metadata": {
        "id": "uExHlvW570Ml"
      },
      "source": [
        "According to the plot above, it seems that distoration decrease a little after k=25. It shows that k between 18 and 25 can be an optimized k. To simplify further calculations k=20 is chosen (Eren et al, 2020)."
      ]
    },
    {
      "cell_type": "markdown",
      "metadata": {
        "id": "5nlW2v1H70Mm"
      },
      "source": [
        "on the PCA-processed feature vector (X_reduced) k-means algorithm with k = 20 is applied: "
      ]
    },
    {
      "cell_type": "code",
      "metadata": {
        "id": "xybaB0P-70Mn"
      },
      "source": [
        "#cite: (Eren et al, 2020)\n",
        "\n",
        "kmeans = KMeans(n_clusters=20, random_state=42)\n",
        "y_pred = kmeans.fit_predict(X_reduced)\n",
        "df['y'] = y_pred"
      ],
      "execution_count": null,
      "outputs": []
    },
    {
      "cell_type": "markdown",
      "metadata": {
        "id": "St7KG3Rb70M7"
      },
      "source": [
        "# Topic Modeling on Each Cluster\n",
        "Since K-means clustered the articles but did not label the topics we need to create a model to find the most significant words in each cluter. Therefore, the topic modeling finds the keywords of each cluster, so the clusters are more meaningful (Eren et al, 2020)."
      ]
    },
    {
      "cell_type": "markdown",
      "metadata": {
        "id": "dNgi7yVb70M7"
      },
      "source": [
        " In LDA which is used for topic modeling each document can be described by a distribution of topics and each topic can be described by a distribution of words (Eren et al, 2020)[.](https://towardsdatascience.com/light-on-math-machine-learning-intuitive-guide-to-latent-dirichlet-allocation-437c81220158)\n",
        "\n",
        " LDA is a generative probabilistic model that is supposed to find groups of words that exist frequently together in different documents. These frequently appearing words suggest the topics of each document (Raschka and Mirjalili, 2, 3rd edition). Given a bag-of-words matrix as input of LDA, LDA decomposes it into two new matrices: 1. A document-to-topic matrix 2. A word-to-topic matrix. According to LDA decomposition, if those two matrixes are multiplied together, the input (the bag-of-words matrix) can be reproduced with the lowest possible error (Raschka and Mirjalili, 2, 3rd edition).  The only downside of LDA is that the number of topics is a hyperparameter that has to be specified manually (Raschka and Mirjalili, 2, 3rd edition). In the given research, we determined the number of clusters using Elbow method and k-means. Therefore, the number of topics is 20 in the given research, and the downside of the LDA is handled."
      ]
    },
    {
      "cell_type": "markdown",
      "metadata": {
        "id": "5cWQ4NlU8vSU"
      },
      "source": [
        "The CountVectorizer is used to create the bag-of-words matrix as input to the LDA.\n",
        "the LatentDirichletAllocation class implemented in scikit-learn to decompose the given dataset and categorize it into different topics. Vividly, in the given research, the LDA should be restricted to 20 topics."
      ]
    },
    {
      "cell_type": "code",
      "metadata": {
        "id": "sVHxM21S70M7"
      },
      "source": [
        "from sklearn.decomposition import LatentDirichletAllocation\n",
        "from sklearn.feature_extraction.text import CountVectorizer"
      ],
      "execution_count": null,
      "outputs": []
    },
    {
      "cell_type": "markdown",
      "metadata": {
        "id": "uAYetH4D70NC"
      },
      "source": [
        "[source](https://towardsdatascience.com/latent-dirichlet-allocation-15800c852699)"
      ]
    },
    {
      "cell_type": "markdown",
      "metadata": {
        "id": "GjKoXYZw70NC"
      },
      "source": [
        "For each of the cluster labels, one topic should be defined. The cell below is used for creating the topics. The vectorizers list is defined to keep bag-of-words. In addition, although the data is preprocessd and all stop words are deleted, scikit-learn's built-in English stop-word library via stop_words='english' is used. \n",
        "The maximum document frequency of words is set to 90 percent (max_df=.9) "
      ]
    },
    {
      "cell_type": "code",
      "metadata": {
        "id": "Q8chT3dP70ND"
      },
      "source": [
        "#cite: (Eren et al, 2020)\n",
        "vectorizers = []\n",
        "    \n",
        "for ii in range(0, 20):\n",
        "    # Creating a vectorizer\n",
        "    vectorizers.append(CountVectorizer(min_df=5, max_df=0.9, stop_words='english', lowercase=True, token_pattern='[a-zA-Z\\-][a-zA-Z\\-]{2,}'))"
      ],
      "execution_count": null,
      "outputs": []
    },
    {
      "cell_type": "code",
      "metadata": {
        "id": "SG0jg8ZG70NF"
      },
      "source": [
        "vectorizers[2]"
      ],
      "execution_count": null,
      "outputs": []
    },
    {
      "cell_type": "code",
      "metadata": {
        "id": "J5RpP51UZO4B"
      },
      "source": [
        "print(len(vectorizers))"
      ],
      "execution_count": null,
      "outputs": []
    },
    {
      "cell_type": "markdown",
      "metadata": {
        "id": "kSuyNDMb70NI"
      },
      "source": [
        "In the previous cells a sparse matrix (X) was defined using TfidfVectorizer. Then, feature reduction performed on X matrix using the PCA, and X_reduced was created. Elbow method performed on X_reduced sparse matrix to find the best k for k-means algorithm. The optimized k was k=20. The k-means was applied on the X_reduced sparse matrix, so 20 clusters were found, and ‘y’ column was added to the data frame containing all of the processed texts. \n",
        "Then, (Eren et al, 2020) used CountVectorizer to create 20 vectorizers. After that, each vectorizer is fitted for each cluster separately. Therefore, each element of vectorized_data list is a sparse matrix refers to one the samples of one cluster. \n"
      ]
    },
    {
      "cell_type": "code",
      "metadata": {
        "id": "CIejsPW870NI"
      },
      "source": [
        "vectorized_data = []\n",
        "\n",
        "for current_cluster, cvec in enumerate(vectorizers):\n",
        "    try:\n",
        "        vectorized_data.append(cvec.fit_transform(df.loc[df['y'] == current_cluster, 'processed_text']))\n",
        "    except Exception as e:\n",
        "        print(\"Not enough instances in cluster: \" + str(current_cluster))\n",
        "        vectorized_data.append(None)"
      ],
      "execution_count": null,
      "outputs": []
    },
    {
      "cell_type": "code",
      "metadata": {
        "id": "7GR532aA70NL"
      },
      "source": [
        "len(vectorized_data)"
      ],
      "execution_count": null,
      "outputs": []
    },
    {
      "cell_type": "markdown",
      "metadata": {
        "id": "CC-oyxuHhft_"
      },
      "source": [
        "The codes below show that each element of the vectorized_data list is a sparse matrix. For example, the first element in the vectorized_data is a sparse matrix with 92 rows and 2315 columns. "
      ]
    },
    {
      "cell_type": "code",
      "metadata": {
        "id": "9NHwfbZJXhIu"
      },
      "source": [
        "vectorized_data[0]"
      ],
      "execution_count": null,
      "outputs": []
    },
    {
      "cell_type": "code",
      "metadata": {
        "id": "ZLQ0YPo8XbAn"
      },
      "source": [
        "print(vectorized_data[0])\n"
      ],
      "execution_count": null,
      "outputs": []
    },
    {
      "cell_type": "markdown",
      "metadata": {
        "id": "0oFj7MV9iNuE"
      },
      "source": [
        "The code below show that the first element of the vectorized_data list is a sparse matrix which the third element of it (like all of its elements) is another sparse matrix. vectorized_data[i] is a sparse matrix that has some spars matrixes as its elements."
      ]
    },
    {
      "cell_type": "code",
      "metadata": {
        "id": "-kR-pCF7uc_5"
      },
      "source": [
        "print(vectorized_data[0][3])"
      ],
      "execution_count": null,
      "outputs": []
    },
    {
      "cell_type": "markdown",
      "metadata": {
        "id": "3kbqU2b5i4nS"
      },
      "source": [
        "It may help to know how many members each cluster has? It is visualized in the bar plot below."
      ]
    },
    {
      "cell_type": "code",
      "metadata": {
        "id": "dxqWYlWjvCSn"
      },
      "source": [
        "\n",
        "l = df['y'].values\n",
        "sum = []\n",
        "indices = []\n",
        "i=0\n",
        "for i in range(0, 20):\n",
        "  sum.append(0)\n",
        "  indices.append(i)\n",
        "\n",
        "for i in l :\n",
        "  if l[i] == 0:\n",
        "    sum[0] += 1\n",
        "  elif l[i] == 1:\n",
        "    sum[1] += 1\n",
        "  elif l[i] == 2:\n",
        "    sum[2] += 1\n",
        "  elif l[i] == 3:\n",
        "    sum[3] += 1\n",
        "  elif l[i] == 4:\n",
        "    sum[4] += 1\n",
        "  elif l[i] == 5:\n",
        "    sum[5] += 1\n",
        "  elif l[i] == 6:\n",
        "    sum[6] += 1\n",
        "  elif l[i] == 7:\n",
        "    sum[7] += 1\n",
        "  elif l[i] == 8:\n",
        "    sum[8] += 1\n",
        "  elif l[i] == 9:\n",
        "    sum[9] += 1\n",
        "  elif l[i] == 10:\n",
        "    sum[10] += 1\n",
        "  elif l[i] == 11:\n",
        "    sum[11] += 1\n",
        "  elif l[i] == 12:\n",
        "    sum[12] += 1\n",
        "  elif l[i] == 13:\n",
        "    sum[13] += 1\n",
        "  elif l[i] == 14:\n",
        "    sum[14] += 1\n",
        "  elif l[i] == 15:\n",
        "    sum[15] += 1\n",
        "  elif l[i] == 16:\n",
        "    sum[16] += 1\n",
        "  elif l[i] == 17:\n",
        "    sum[17] += 1\n",
        "  elif l[i] == 18:\n",
        "    sum[18] += 1\n",
        "  elif l[i] == 19:\n",
        "    sum[19] += 1\n",
        "  elif l[i] == 20:\n",
        "    sum[20] += 1\n",
        "  i = i+1\n",
        "\n",
        "\n",
        "plt.bar(indices, sum, 0.5)\n",
        "\n",
        "\n",
        "print(sum)\n"
      ],
      "execution_count": null,
      "outputs": []
    },
    {
      "cell_type": "markdown",
      "metadata": {
        "id": "Mq2I56yitC6c"
      },
      "source": [
        "The code below is regarding LDA model structure. The learning_method in the Kaggle notebook (Eren et al, 2020) is learning_method='online'. However, according to Raschka and Mirjalili (2&3rd), By setting learning_method='batch',  the lda estimator is allowed do its estimation based on all available training data (the bag-of-words matrix) in one iteration. Although learning_method='batch' makes the model slower than the alternative 'online' learning method but can give more accurate results because learning_method='online' is analogous to online or mini-batch (Raschka and Mirjalili, 2, 3rd edition).\n"
      ]
    },
    {
      "cell_type": "code",
      "metadata": {
        "id": "MuLyv4yt70NN"
      },
      "source": [
        "#cite: (Eren et al, 2020)\n",
        "# number of topics per cluster\n",
        "NUM_TOPICS_PER_CLUSTER = 20\n",
        "\n",
        "lda_models = []\n",
        "for ii in range(0, 20):\n",
        "    # Latent Dirichlet Allocation Model\n",
        "    lda = LatentDirichletAllocation(n_components=NUM_TOPICS_PER_CLUSTER, max_iter=10, learning_method='batch',verbose=False, random_state=42)\n",
        "    lda_models.append(lda)\n",
        "    \n",
        "lda_models[0]"
      ],
      "execution_count": null,
      "outputs": []
    },
    {
      "cell_type": "markdown",
      "metadata": {
        "id": "RwNMCt7270NP"
      },
      "source": [
        "A correspoding LDA model for each cluster is created  in the previous step. Now, all the LDA models should be fitted on their respective cluster using fit_transform (Eren et al, 2020).\n",
        " "
      ]
    },
    {
      "cell_type": "code",
      "metadata": {
        "id": "q-TA8FKe70NQ"
      },
      "source": [
        "#cite: (Eren et al, 2020)\n",
        "clusters_lda_data = []\n",
        "\n",
        "for current_cluster, lda in enumerate(lda_models):\n",
        "    # print(\"Current Cluster: \" + str(current_cluster))\n",
        "    \n",
        "    if vectorized_data[current_cluster] != None:\n",
        "        clusters_lda_data.append((lda.fit_transform(vectorized_data[current_cluster])))"
      ],
      "execution_count": null,
      "outputs": []
    },
    {
      "cell_type": "code",
      "metadata": {
        "id": "nCwnzZMHAPWZ"
      },
      "source": [
        "print(len(clusters_lda_data))"
      ],
      "execution_count": null,
      "outputs": []
    },
    {
      "cell_type": "code",
      "metadata": {
        "id": "KGahaaoHCbeE"
      },
      "source": [
        "vectorized_data[0]"
      ],
      "execution_count": null,
      "outputs": []
    },
    {
      "cell_type": "code",
      "metadata": {
        "id": "GbuuNtSkCghE"
      },
      "source": [
        "len(clusters_lda_data[0])"
      ],
      "execution_count": null,
      "outputs": []
    },
    {
      "cell_type": "code",
      "metadata": {
        "id": "eiZODawiCo0z"
      },
      "source": [
        "vectorized_data[2]"
      ],
      "execution_count": null,
      "outputs": []
    },
    {
      "cell_type": "code",
      "metadata": {
        "id": "yrJJ4d93B61g"
      },
      "source": [
        "len(clusters_lda_data[2])"
      ],
      "execution_count": null,
      "outputs": []
    },
    {
      "cell_type": "markdown",
      "metadata": {
        "id": "8qtoAJXjD58q"
      },
      "source": [
        "Obviously, and as the codes above show the number of the elements of each element of clusters_lda_data is equal to the number of rows of the corresponding sparse matrix in the vectorized_data list."
      ]
    },
    {
      "cell_type": "markdown",
      "metadata": {
        "id": "Z2O2nNzZ70NT"
      },
      "source": [
        "Extracts the keywords from each cluster:"
      ]
    },
    {
      "cell_type": "code",
      "metadata": {
        "id": "R4usfOOl70NT"
      },
      "source": [
        "#cite: (Eren et al, 2020)\n",
        "# The structure of functions for printing keywords for each topic is defined\n",
        "def selected_topics(model, vectorizer, top_n=3):\n",
        "    current_words = []\n",
        "    keywords = []\n",
        "    \n",
        "    for idx, topic in enumerate(model.components_):\n",
        "        words = [(vectorizer.get_feature_names()[i], topic[i]) for i in topic.argsort()[:-top_n - 1:-1]]\n",
        "        for word in words:\n",
        "            if word[0] not in current_words:\n",
        "                keywords.append(word)\n",
        "                current_words.append(word[0])\n",
        "                \n",
        "    keywords.sort(key = lambda x: x[1])  \n",
        "    keywords.reverse()\n",
        "    return_values = []\n",
        "    for ii in keywords:\n",
        "        return_values.append(ii[0])\n",
        "    return return_values"
      ],
      "execution_count": null,
      "outputs": []
    },
    {
      "cell_type": "markdown",
      "metadata": {
        "id": "UzWSrD7F70NV"
      },
      "source": [
        "Append list of keywords for a single cluster to 2D list of length NUM_TOPICS_PER_CLUSTER"
      ]
    },
    {
      "cell_type": "code",
      "metadata": {
        "id": "gk_2Ge2m70NV"
      },
      "source": [
        "#cite: (Eren et al, 2020)\n",
        "all_keywords = []\n",
        "for current_vectorizer, lda in enumerate(lda_models):\n",
        "    # print(\"Current Cluster: \" + str(current_vectorizer))\n",
        "\n",
        "    if vectorized_data[current_vectorizer] != None:\n",
        "        all_keywords.append(selected_topics(lda, vectorizers[current_vectorizer]))"
      ],
      "execution_count": null,
      "outputs": []
    },
    {
      "cell_type": "code",
      "metadata": {
        "id": "r9bOtH_N70NY"
      },
      "source": [
        "#cite: (Eren et al, 2020)\n",
        "all_keywords[0][:10]"
      ],
      "execution_count": null,
      "outputs": []
    },
    {
      "cell_type": "code",
      "metadata": {
        "id": "ae-kraofGJN0"
      },
      "source": [
        "all_keywords[1]"
      ],
      "execution_count": null,
      "outputs": []
    },
    {
      "cell_type": "code",
      "metadata": {
        "id": "-160iNJdGfTN"
      },
      "source": [
        "len(all_keywords[1])"
      ],
      "execution_count": null,
      "outputs": []
    },
    {
      "cell_type": "code",
      "metadata": {
        "id": "Q-eA4zHIGkjg"
      },
      "source": [
        "len(all_keywords[0])"
      ],
      "execution_count": null,
      "outputs": []
    },
    {
      "cell_type": "code",
      "metadata": {
        "id": "FnBYKxmB70NZ"
      },
      "source": [
        "#cite: (Eren et al, 2020)\n",
        "len(all_keywords)"
      ],
      "execution_count": null,
      "outputs": []
    },
    {
      "cell_type": "markdown",
      "metadata": {
        "id": "MRFnvA_BGau3"
      },
      "source": [
        "Therefore, for each cluster some keywords are assigned. For example, based on the codes above, 46 keywords are recognized for the cluster 2 (index 1) and 41 keywords for the cluster 1 (index 0). Vividly, each group of keywords is each element of the all_keywords list, so the length of all_keywords list is 20-- the number of different clusters. "
      ]
    },
    {
      "cell_type": "markdown",
      "metadata": {
        "id": "uPkT8KLy70Ng"
      },
      "source": [
        "# Model Evaluation\n",
        "One way to evaluate clustering is using classification techniques (Eren et al, 2020). After running k-means, the data is labeled, and classification methods can be applied on the labeled data. If the k-means was able to cluster data properly, there should be the possibility to train a classifier to predict which cluster a given sample belongs to Eren et al, 2020). Therefore, to check how proper the clustering model is, a classification technique is used. "
      ]
    },
    {
      "cell_type": "code",
      "metadata": {
        "id": "5z05iYu570Ng"
      },
      "source": [
        "#cite: (Eren et al, 2020)\n",
        "# function to print out classification model report\n",
        "def classification_report(model_name, test, pred):\n",
        "    from sklearn.metrics import precision_score, recall_score\n",
        "    from sklearn.metrics import accuracy_score\n",
        "    from sklearn.metrics import f1_score\n",
        "    \n",
        "    print(model_name, \":\\n\")\n",
        "    print(\"Accuracy Score: \", '{:,.3f}'.format(float(accuracy_score(test, pred)) * 100), \"%\")\n",
        "    print(\"     Precision: \", '{:,.3f}'.format(float(precision_score(test, pred, average='macro')) * 100), \"%\")\n",
        "    print(\"        Recall: \", '{:,.3f}'.format(float(recall_score(test, pred, average='macro')) * 100), \"%\")\n",
        "    print(\"      F1 score: \", '{:,.3f}'.format(float(f1_score(test, pred, average='macro')) * 100), \"%\")"
      ],
      "execution_count": null,
      "outputs": []
    },
    {
      "cell_type": "markdown",
      "metadata": {
        "id": "XJdeQc5-70Ni"
      },
      "source": [
        "splitting data to training and testing data sets"
      ]
    },
    {
      "cell_type": "code",
      "metadata": {
        "id": "PZIOx0oD70Ni"
      },
      "source": [
        "#cite: (Eren et al, 2020)\n",
        "from sklearn.model_selection import train_test_split\n",
        "\n",
        "# test set size of 20% of the data and the random seed 42 <3\n",
        "X_train, X_test, y_train, y_test = train_test_split(X.toarray(),y_pred, test_size=0.2, random_state=42)\n",
        "\n",
        "print(\"X_train size:\", len(X_train))\n",
        "print(\"X_test size:\", len(X_test), \"\\n\")"
      ],
      "execution_count": null,
      "outputs": []
    },
    {
      "cell_type": "markdown",
      "metadata": {
        "id": "q3RfwvuT70Nk"
      },
      "source": [
        "\"**Precision** is ratio of True Positives to True Positives + False Positives. This is the accuracy of positive predictions<br>\n",
        "**Recall** (also known as TPR) measures the ratio of True Positives to True Positives + False Negatives. It measures the ratio of positive instances that are correctly detected by the classifer.<br>\n",
        "**F1 score**  is the harmonic average of the precision and recall. F1 score will only be high if both precision and recall are high\" (Eren et al, 2020, cell:57)\n",
        "\n",
        "#### Cite: [Hands-On Machine Learning with Scikit-Learn, Keras & TensorFlow: Second Edition | Aurélien Geron](https://github.com/ageron/handson-ml2) "
      ]
    },
    {
      "cell_type": "markdown",
      "metadata": {
        "id": "YG_6wMZ9QRGA"
      },
      "source": [
        "Stochastic gradient descent (SGD) is an iterative method used to optimize an objective function (e.g. differentiable or subdifferentiable). Cite: https://en.wikipedia.org/wiki/Stochastic_gradient_descent\n",
        "Since the SGD is a linear model can be applied via sklearn.linear_model. It run a linear classifier (SVM, logistic regression, a.o.) with SGD training. This estimator implements regularized linear models with stochastic gradient descent (SGD) learning: the gradient of the loss is estimated each sample at a time and the model is updated along the way with a decreasing strength schedule.\n"
      ]
    },
    {
      "cell_type": "code",
      "metadata": {
        "id": "1qSLFO9b70Nl"
      },
      "source": [
        "#cite: (Eren et al, 2020)\n",
        "from sklearn.model_selection import cross_val_score\n",
        "from sklearn.model_selection import cross_val_predict\n",
        "from sklearn.linear_model import SGDClassifier\n",
        "\n",
        "# SGD instance\n",
        "sgd_clf = SGDClassifier(max_iter=10000, tol=1e-3, random_state=42, n_jobs=4)\n",
        "# train SGD\n",
        "sgd_clf.fit(X_train, y_train)\n",
        "\n",
        "# cross validation predictions\n",
        "sgd_pred = cross_val_predict(sgd_clf, X_train, y_train, cv=3, n_jobs=4)\n",
        "\n",
        "# print out the classification report\n",
        "classification_report(\"Stochastic Gradient Descent Report (Training Set)\", y_train, sgd_pred)"
      ],
      "execution_count": null,
      "outputs": []
    },
    {
      "cell_type": "markdown",
      "metadata": {
        "id": "Dlqb_FB270Nq"
      },
      "source": [
        "To test for overfitting, let's see how the model generalizes over the test set"
      ]
    },
    {
      "cell_type": "code",
      "metadata": {
        "id": "VoN7ANjd70Nr"
      },
      "source": [
        "#cite: (Eren et al, 2020)\n",
        "# cross validation predictions\n",
        "sgd_pred = cross_val_predict(sgd_clf, X_test, y_test, cv=3, n_jobs=4)\n",
        "\n",
        "# print out the classification report\n",
        "classification_report(\"Stochastic Gradient Descent Report (Training Set)\", y_test, sgd_pred)"
      ],
      "execution_count": null,
      "outputs": []
    },
    {
      "cell_type": "markdown",
      "metadata": {
        "id": "ilcdVQ-STV53"
      },
      "source": [
        "Therefore, the model does not suffer from overfitting"
      ]
    },
    {
      "cell_type": "markdown",
      "metadata": {
        "id": "o-P_NRBc70Ns"
      },
      "source": [
        "Now let's see how the model can generalize across the whole dataset."
      ]
    },
    {
      "cell_type": "code",
      "metadata": {
        "id": "UxMpOi0l70Ns"
      },
      "source": [
        "#cite: (Eren et al, 2020)\n",
        "sgd_cv_score = cross_val_score(sgd_clf, X.toarray(), y_pred, cv=10)\n",
        "print(\"Mean cv Score - SGD: {:,.3f}\".format(float(sgd_cv_score.mean()) * 100), \"%\")"
      ],
      "execution_count": null,
      "outputs": []
    },
    {
      "cell_type": "markdown",
      "metadata": {
        "id": "jlOL32bK70OU"
      },
      "source": [
        "# Conclusion\n",
        "In this project, an attempt was made to cluster published literature on COVID-19 and simplify medical professionals’ researching on COVID-19. “Instead of having to manually search for related work, every publication is connected to a larger topic cluster” (Eren et al, 2020). \n",
        "Because of lack of space and avoiding long runtimes 10000 samples were chosen from the whole 85371 data.  Preprocessing was performed on the 10000 data, and as the result 6061 samples remained in the data frame. For example, as a preprocessing step, the distribution of different languages was gained and plotted. Vividly, all articles which were not in English were dropped. It was needed to convert categorical data, such as text or words, into a numerical form before we could pass it on to a machine learning algorithm. Bag-of-words method and vectorization applied on the data frame to convert texts to sparse matrixes which are understandable by the algorithms. Therefore, for each article as a row, there are a lot of zeros since each article does not have a lot of unique words. This situation causes curse of dimensionality which were addressed by using PCA. In the case of the given research, it was important to find that how important each word is to the instance out of the literature as a whole because of the purpose of this research, and it should be done by using tf-idf. Vectorizer is a combinition of CountVectorizer and TfidfTransformer which was used for vectorization. The output of this step was a sparse matrix with 4096 columns (X). After applying PCA 1929 features remained. This size of features were able to cover 0.95% of the variance of the data (X_reduced). “The clustering of the data was done through k-means on a pre-processed, vectorized version of the literature’s body text” (Eren et al, 2020).\n",
        "The LDA was performed on the data to identify the keywords for each cluster. “Both the clusters and keywords are found through unsupervised learning models and can be useful in revealing patterns that humans may not have even thought about. In no part of this project did we have to manually organize the papers: the results are due to latent connections in the data” (Eren et al, 2020). \n",
        "Papers which have common keywords and topics bear the same k-means labels. In different steps of the project there are some comparisons between the primary project and the text book (Raschka and Mirjalili, 2, 3rd edition) codes.  \n",
        "The evaluation method was classification. A classification model (SGD) was trained with the k-means labels. Then, the testing data set which was 20% of the whole dataset was used to give the values of the different evaluation metrics (accuracy, recall, precision and F-measure). Because the classifier performed well, we can safely say that the clustering model is acceptable. \n",
        "\n",
        "\n",
        "\n",
        "<br>\n",
        "<br>\n",
        "<br>"
      ]
    },
    {
      "cell_type": "markdown",
      "metadata": {
        "id": "i0fQX4s570OU"
      },
      "source": [
        "# Citation/Sources\n",
        " ```\n",
        "@inproceedings{COVID-19 Literature Clustering,\n",
        "    author = {Eren, E. Maksim. Solovyev, Nick. Nicholas, Charles. Raff, Edward},\n",
        "    title = {COVID-19 Literature Clustering},\n",
        "    year = {2020},\n",
        "    month = {April},\n",
        "    location = {University of Maryland Baltimore County (UMBC), Baltimore, MD, USA},\n",
        "    note={Malware Research Group},\n",
        "    url = {\\url{https://www.kaggle.com/maksimeren/covid-19-literature-clustering}},\n",
        "    howpublished = {TBA}\n",
        "}\n",
        "```\n",
        "```\n",
        "Raschka, Sebastian and Mirjalili.\n",
        "Python Machine Learning: Machine Learning and Deep Learning with Python, \n",
        "scikit-learn, and TensorFlow 2, 3rd Edition . \n",
        "Packt Publishing. Kindle Edition. \n",
        "```\n",
        "```\n",
        "@inproceedings{Topic Modeling: Finding Related Articles,\n",
        "\tauthor = {Wolffram, Daniel},\n",
        "\ttitle = {Topic Modeling: Finding Related Articles},\n",
        "\tbooktitle = {High Performance Computing and Data Analytics Workshop},\n",
        "\tyear = {2020},\n",
        "\tmonth = {May},\n",
        "\turl = {\\url{https://www.kaggle.com/danielwolffram/topic-modeling-finding-related-articles}}\n",
        "\t}\n",
        "```\n",
        "```\n",
        "\n",
        "```\n",
        "\n",
        "<br>\n",
        "<br>\n"
      ]
    }
  ]
}